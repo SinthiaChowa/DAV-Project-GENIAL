{
 "cells": [
  {
   "cell_type": "code",
   "execution_count": 272,
   "id": "204170c8",
   "metadata": {},
   "outputs": [],
   "source": [
    "import pandas as pd #used for handling the dataset\n",
    "import numpy as np #used for handling numbers\n",
    "from sklearn.impute import SimpleImputer #used for handling missing data\n",
    "from scipy import stats #for t-test\n",
    "#from sklearn.preprocessing import LabelEncoder, OneHotEncoder #used for encoding categorical data\n",
    "#from sklearn.model_selection import train_test_split #used for splitting training and testing data\n",
    "#from sklearm.preprocessing import StandardScaler #used for feature scaling"
   ]
  },
  {
   "cell_type": "markdown",
   "id": "78d80c33",
   "metadata": {},
   "source": [
    "The dataset (forest) for finding out the forest land amount in 246 countries from 1990 to 2020. "
   ]
  },
  {
   "cell_type": "code",
   "execution_count": 36,
   "id": "4603a1f5",
   "metadata": {},
   "outputs": [
    {
     "name": "stdout",
     "output_type": "stream",
     "text": [
      "  Domain Code    Domain  Area Code (M49)         Area  Element Code Element  \\\n",
      "0          RL  Land Use                4  Afghanistan          5110    Area   \n",
      "1          RL  Land Use                4  Afghanistan          5110    Area   \n",
      "2          RL  Land Use                4  Afghanistan          5110    Area   \n",
      "3          RL  Land Use                4  Afghanistan          5110    Area   \n",
      "4          RL  Land Use                4  Afghanistan          5110    Area   \n",
      "\n",
      "   Item Code         Item  Year Code  Year     Unit    Value Flag  \\\n",
      "0       6602  Agriculture       1990  1990  1000 ha  38040.0    I   \n",
      "1       6602  Agriculture       1991  1991  1000 ha  38030.0    I   \n",
      "2       6602  Agriculture       1992  1992  1000 ha  38030.0    I   \n",
      "3       6602  Agriculture       1993  1993  1000 ha  37934.0    I   \n",
      "4       6602  Agriculture       1994  1994  1000 ha  37813.0    I   \n",
      "\n",
      "  Flag Description  \n",
      "0    Imputed value  \n",
      "1    Imputed value  \n",
      "2    Imputed value  \n",
      "3    Imputed value  \n",
      "4    Imputed value  \n"
     ]
    }
   ],
   "source": [
    "forest = pd.read_csv('FAOSTAT.csv')\n",
    "print(forest.head())"
   ]
  },
  {
   "cell_type": "code",
   "execution_count": 37,
   "id": "ffb02b9b",
   "metadata": {},
   "outputs": [
    {
     "name": "stdout",
     "output_type": "stream",
     "text": [
      "['Agriculture' 'Agricultural land' 'Cropland' 'Forest land'\n",
      " 'Naturally regenerating forest' 'Planted Forest']\n",
      "number of unique Domain:  6\n",
      "[1990 1991 1992 1993 1994 1995 1996 1997 1998 1999 2000 2001 2002 2003\n",
      " 2004 2005 2006 2007 2008 2009 2010 2011 2012 2013 2014 2015 2016 2017\n",
      " 2018 2019 2020]\n",
      "number of unique Domain. year:  31\n",
      "number of unique Domain, area:  246\n"
     ]
    }
   ],
   "source": [
    "print(forest[\"Item\"].unique())\n",
    "print(\"number of unique Domain: \", forest[\"Item\"].nunique())\n",
    "print(forest[\"Year\"].unique())\n",
    "print(\"number of unique Domain. year: \", forest[\"Year\"].nunique())\n",
    "\n",
    "print(\"number of unique Domain, area: \", forest[\"Area\"].nunique())"
   ]
  },
  {
   "cell_type": "code",
   "execution_count": 86,
   "id": "2cc35e99",
   "metadata": {},
   "outputs": [
    {
     "data": {
      "text/html": [
       "<div>\n",
       "<style scoped>\n",
       "    .dataframe tbody tr th:only-of-type {\n",
       "        vertical-align: middle;\n",
       "    }\n",
       "\n",
       "    .dataframe tbody tr th {\n",
       "        vertical-align: top;\n",
       "    }\n",
       "\n",
       "    .dataframe thead th {\n",
       "        text-align: right;\n",
       "    }\n",
       "</style>\n",
       "<table border=\"1\" class=\"dataframe\">\n",
       "  <thead>\n",
       "    <tr style=\"text-align: right;\">\n",
       "      <th></th>\n",
       "      <th>Domain Code</th>\n",
       "      <th>Domain</th>\n",
       "      <th>Area Code (M49)</th>\n",
       "      <th>Area</th>\n",
       "      <th>Element Code</th>\n",
       "      <th>Element</th>\n",
       "      <th>Item Code</th>\n",
       "      <th>Item</th>\n",
       "      <th>Year Code</th>\n",
       "      <th>Year</th>\n",
       "      <th>Unit</th>\n",
       "      <th>Value</th>\n",
       "    </tr>\n",
       "  </thead>\n",
       "  <tbody>\n",
       "    <tr>\n",
       "      <th>0</th>\n",
       "      <td>RL</td>\n",
       "      <td>Land Use</td>\n",
       "      <td>4</td>\n",
       "      <td>Afghanistan</td>\n",
       "      <td>5110</td>\n",
       "      <td>Area</td>\n",
       "      <td>6602</td>\n",
       "      <td>Agriculture</td>\n",
       "      <td>1990</td>\n",
       "      <td>1990</td>\n",
       "      <td>1000 ha</td>\n",
       "      <td>38040.0</td>\n",
       "    </tr>\n",
       "    <tr>\n",
       "      <th>1</th>\n",
       "      <td>RL</td>\n",
       "      <td>Land Use</td>\n",
       "      <td>4</td>\n",
       "      <td>Afghanistan</td>\n",
       "      <td>5110</td>\n",
       "      <td>Area</td>\n",
       "      <td>6602</td>\n",
       "      <td>Agriculture</td>\n",
       "      <td>1991</td>\n",
       "      <td>1991</td>\n",
       "      <td>1000 ha</td>\n",
       "      <td>38030.0</td>\n",
       "    </tr>\n",
       "    <tr>\n",
       "      <th>2</th>\n",
       "      <td>RL</td>\n",
       "      <td>Land Use</td>\n",
       "      <td>4</td>\n",
       "      <td>Afghanistan</td>\n",
       "      <td>5110</td>\n",
       "      <td>Area</td>\n",
       "      <td>6602</td>\n",
       "      <td>Agriculture</td>\n",
       "      <td>1992</td>\n",
       "      <td>1992</td>\n",
       "      <td>1000 ha</td>\n",
       "      <td>38030.0</td>\n",
       "    </tr>\n",
       "    <tr>\n",
       "      <th>3</th>\n",
       "      <td>RL</td>\n",
       "      <td>Land Use</td>\n",
       "      <td>4</td>\n",
       "      <td>Afghanistan</td>\n",
       "      <td>5110</td>\n",
       "      <td>Area</td>\n",
       "      <td>6602</td>\n",
       "      <td>Agriculture</td>\n",
       "      <td>1993</td>\n",
       "      <td>1993</td>\n",
       "      <td>1000 ha</td>\n",
       "      <td>37934.0</td>\n",
       "    </tr>\n",
       "    <tr>\n",
       "      <th>4</th>\n",
       "      <td>RL</td>\n",
       "      <td>Land Use</td>\n",
       "      <td>4</td>\n",
       "      <td>Afghanistan</td>\n",
       "      <td>5110</td>\n",
       "      <td>Area</td>\n",
       "      <td>6602</td>\n",
       "      <td>Agriculture</td>\n",
       "      <td>1994</td>\n",
       "      <td>1994</td>\n",
       "      <td>1000 ha</td>\n",
       "      <td>37813.0</td>\n",
       "    </tr>\n",
       "  </tbody>\n",
       "</table>\n",
       "</div>"
      ],
      "text/plain": [
       "  Domain Code    Domain  Area Code (M49)         Area  Element Code Element  \\\n",
       "0          RL  Land Use                4  Afghanistan          5110    Area   \n",
       "1          RL  Land Use                4  Afghanistan          5110    Area   \n",
       "2          RL  Land Use                4  Afghanistan          5110    Area   \n",
       "3          RL  Land Use                4  Afghanistan          5110    Area   \n",
       "4          RL  Land Use                4  Afghanistan          5110    Area   \n",
       "\n",
       "   Item Code         Item  Year Code  Year     Unit    Value  \n",
       "0       6602  Agriculture       1990  1990  1000 ha  38040.0  \n",
       "1       6602  Agriculture       1991  1991  1000 ha  38030.0  \n",
       "2       6602  Agriculture       1992  1992  1000 ha  38030.0  \n",
       "3       6602  Agriculture       1993  1993  1000 ha  37934.0  \n",
       "4       6602  Agriculture       1994  1994  1000 ha  37813.0  "
      ]
     },
     "execution_count": 86,
     "metadata": {},
     "output_type": "execute_result"
    }
   ],
   "source": [
    "#dropping unnecessary columns\n",
    "forest_new=forest.drop(columns = [\"Flag Description\",\"Flag\" ])\n",
    "forest_new.head()"
   ]
  },
  {
   "cell_type": "code",
   "execution_count": 87,
   "id": "5c02272c",
   "metadata": {},
   "outputs": [
    {
     "data": {
      "text/plain": [
       "False"
      ]
     },
     "execution_count": 87,
     "metadata": {},
     "output_type": "execute_result"
    }
   ],
   "source": [
    "# to check if there is any missing value in a column\n",
    "forest_new.isnull().Value.any()\n",
    "forest_new.isnull().Year.any()"
   ]
  },
  {
   "cell_type": "markdown",
   "id": "2c39cd6d",
   "metadata": {},
   "source": [
    "The output shows there is no missing value in the dataset. so no need to alter anything. "
   ]
  },
  {
   "cell_type": "code",
   "execution_count": 88,
   "id": "91b21c9d",
   "metadata": {},
   "outputs": [
    {
     "data": {
      "text/plain": [
       "0        False\n",
       "1        False\n",
       "2        False\n",
       "3        False\n",
       "4        False\n",
       "         ...  \n",
       "47596    False\n",
       "47597    False\n",
       "47598    False\n",
       "47599    False\n",
       "47600    False\n",
       "Length: 47601, dtype: bool"
      ]
     },
     "execution_count": 88,
     "metadata": {},
     "output_type": "execute_result"
    }
   ],
   "source": [
    "#to check if there is any duplicate value exist; output shows none\n",
    "forest_new.duplicated()"
   ]
  },
  {
   "cell_type": "markdown",
   "id": "36208677",
   "metadata": {},
   "source": [
    "MEAN"
   ]
  },
  {
   "cell_type": "code",
   "execution_count": 164,
   "id": "5f6a13b9",
   "metadata": {},
   "outputs": [
    {
     "data": {
      "text/html": [
       "<div>\n",
       "<style scoped>\n",
       "    .dataframe tbody tr th:only-of-type {\n",
       "        vertical-align: middle;\n",
       "    }\n",
       "\n",
       "    .dataframe tbody tr th {\n",
       "        vertical-align: top;\n",
       "    }\n",
       "\n",
       "    .dataframe thead th {\n",
       "        text-align: right;\n",
       "    }\n",
       "</style>\n",
       "<table border=\"1\" class=\"dataframe\">\n",
       "  <thead>\n",
       "    <tr style=\"text-align: right;\">\n",
       "      <th></th>\n",
       "      <th>Domain Code</th>\n",
       "      <th>Domain</th>\n",
       "      <th>Area Code (M49)</th>\n",
       "      <th>Area</th>\n",
       "      <th>Element Code</th>\n",
       "      <th>Element</th>\n",
       "      <th>Item Code</th>\n",
       "      <th>Item</th>\n",
       "      <th>Year Code</th>\n",
       "      <th>Year</th>\n",
       "      <th>Unit</th>\n",
       "      <th>Value</th>\n",
       "    </tr>\n",
       "  </thead>\n",
       "  <tbody>\n",
       "    <tr>\n",
       "      <th>42</th>\n",
       "      <td>RL</td>\n",
       "      <td>Land Use</td>\n",
       "      <td>4</td>\n",
       "      <td>Afghanistan</td>\n",
       "      <td>5110</td>\n",
       "      <td>Area</td>\n",
       "      <td>6610</td>\n",
       "      <td>Agricultural land</td>\n",
       "      <td>2001</td>\n",
       "      <td>2001</td>\n",
       "      <td>1000 ha</td>\n",
       "      <td>37753.00</td>\n",
       "    </tr>\n",
       "    <tr>\n",
       "      <th>228</th>\n",
       "      <td>RL</td>\n",
       "      <td>Land Use</td>\n",
       "      <td>8</td>\n",
       "      <td>Albania</td>\n",
       "      <td>5110</td>\n",
       "      <td>Area</td>\n",
       "      <td>6610</td>\n",
       "      <td>Agricultural land</td>\n",
       "      <td>2001</td>\n",
       "      <td>2001</td>\n",
       "      <td>1000 ha</td>\n",
       "      <td>1139.00</td>\n",
       "    </tr>\n",
       "    <tr>\n",
       "      <th>414</th>\n",
       "      <td>RL</td>\n",
       "      <td>Land Use</td>\n",
       "      <td>12</td>\n",
       "      <td>Algeria</td>\n",
       "      <td>5110</td>\n",
       "      <td>Area</td>\n",
       "      <td>6610</td>\n",
       "      <td>Agricultural land</td>\n",
       "      <td>2001</td>\n",
       "      <td>2001</td>\n",
       "      <td>1000 ha</td>\n",
       "      <td>40109.00</td>\n",
       "    </tr>\n",
       "    <tr>\n",
       "      <th>631</th>\n",
       "      <td>RL</td>\n",
       "      <td>Land Use</td>\n",
       "      <td>16</td>\n",
       "      <td>American Samoa</td>\n",
       "      <td>5110</td>\n",
       "      <td>Area</td>\n",
       "      <td>6610</td>\n",
       "      <td>Agricultural land</td>\n",
       "      <td>2001</td>\n",
       "      <td>2001</td>\n",
       "      <td>1000 ha</td>\n",
       "      <td>5.92</td>\n",
       "    </tr>\n",
       "    <tr>\n",
       "      <th>848</th>\n",
       "      <td>RL</td>\n",
       "      <td>Land Use</td>\n",
       "      <td>20</td>\n",
       "      <td>Andorra</td>\n",
       "      <td>5110</td>\n",
       "      <td>Area</td>\n",
       "      <td>6610</td>\n",
       "      <td>Agricultural land</td>\n",
       "      <td>2001</td>\n",
       "      <td>2001</td>\n",
       "      <td>1000 ha</td>\n",
       "      <td>22.75</td>\n",
       "    </tr>\n",
       "  </tbody>\n",
       "</table>\n",
       "</div>"
      ],
      "text/plain": [
       "    Domain Code    Domain  Area Code (M49)            Area  Element Code  \\\n",
       "42           RL  Land Use                4     Afghanistan          5110   \n",
       "228          RL  Land Use                8         Albania          5110   \n",
       "414          RL  Land Use               12         Algeria          5110   \n",
       "631          RL  Land Use               16  American Samoa          5110   \n",
       "848          RL  Land Use               20         Andorra          5110   \n",
       "\n",
       "    Element  Item Code               Item  Year Code  Year     Unit     Value  \n",
       "42     Area       6610  Agricultural land       2001  2001  1000 ha  37753.00  \n",
       "228    Area       6610  Agricultural land       2001  2001  1000 ha   1139.00  \n",
       "414    Area       6610  Agricultural land       2001  2001  1000 ha  40109.00  \n",
       "631    Area       6610  Agricultural land       2001  2001  1000 ha      5.92  \n",
       "848    Area       6610  Agricultural land       2001  2001  1000 ha     22.75  "
      ]
     },
     "execution_count": 164,
     "metadata": {},
     "output_type": "execute_result"
    }
   ],
   "source": [
    "#filtering through columns and rows\n",
    "forest_newn=forest_new[forest_new[\"Year\"]==2001]\n",
    "forest_new1=forest_newn[forest_newn[\"Item\"]==\"Agricultural land\"]\n",
    "forest_new1.head()"
   ]
  },
  {
   "cell_type": "code",
   "execution_count": 167,
   "id": "f22e898c",
   "metadata": {},
   "outputs": [
    {
     "name": "stdout",
     "output_type": "stream",
     "text": [
      "the mean of the agricultural land worldwide for year 2001:  23913.90411504425\n"
     ]
    }
   ],
   "source": [
    "#the mean of the agricultural land worldwide in 2001\n",
    "print(\"the mean of the agricultural land worldwide for year 2001: \", forest_new1[\"Value\"].mean())"
   ]
  },
  {
   "cell_type": "code",
   "execution_count": 170,
   "id": "16037cbf",
   "metadata": {},
   "outputs": [
    {
     "data": {
      "text/html": [
       "<div>\n",
       "<style scoped>\n",
       "    .dataframe tbody tr th:only-of-type {\n",
       "        vertical-align: middle;\n",
       "    }\n",
       "\n",
       "    .dataframe tbody tr th {\n",
       "        vertical-align: top;\n",
       "    }\n",
       "\n",
       "    .dataframe thead th {\n",
       "        text-align: right;\n",
       "    }\n",
       "</style>\n",
       "<table border=\"1\" class=\"dataframe\">\n",
       "  <thead>\n",
       "    <tr style=\"text-align: right;\">\n",
       "      <th></th>\n",
       "      <th>Domain Code</th>\n",
       "      <th>Domain</th>\n",
       "      <th>Area Code (M49)</th>\n",
       "      <th>Area</th>\n",
       "      <th>Element Code</th>\n",
       "      <th>Element</th>\n",
       "      <th>Item Code</th>\n",
       "      <th>Item</th>\n",
       "      <th>Year Code</th>\n",
       "      <th>Year</th>\n",
       "      <th>Unit</th>\n",
       "      <th>Value</th>\n",
       "    </tr>\n",
       "  </thead>\n",
       "  <tbody>\n",
       "    <tr>\n",
       "      <th>61</th>\n",
       "      <td>RL</td>\n",
       "      <td>Land Use</td>\n",
       "      <td>4</td>\n",
       "      <td>Afghanistan</td>\n",
       "      <td>5110</td>\n",
       "      <td>Area</td>\n",
       "      <td>6610</td>\n",
       "      <td>Agricultural land</td>\n",
       "      <td>2020</td>\n",
       "      <td>2020</td>\n",
       "      <td>1000 ha</td>\n",
       "      <td>38356.00</td>\n",
       "    </tr>\n",
       "    <tr>\n",
       "      <th>247</th>\n",
       "      <td>RL</td>\n",
       "      <td>Land Use</td>\n",
       "      <td>8</td>\n",
       "      <td>Albania</td>\n",
       "      <td>5110</td>\n",
       "      <td>Area</td>\n",
       "      <td>6610</td>\n",
       "      <td>Agricultural land</td>\n",
       "      <td>2020</td>\n",
       "      <td>2020</td>\n",
       "      <td>1000 ha</td>\n",
       "      <td>1165.56</td>\n",
       "    </tr>\n",
       "    <tr>\n",
       "      <th>433</th>\n",
       "      <td>RL</td>\n",
       "      <td>Land Use</td>\n",
       "      <td>12</td>\n",
       "      <td>Algeria</td>\n",
       "      <td>5110</td>\n",
       "      <td>Area</td>\n",
       "      <td>6610</td>\n",
       "      <td>Agricultural land</td>\n",
       "      <td>2020</td>\n",
       "      <td>2020</td>\n",
       "      <td>1000 ha</td>\n",
       "      <td>41358.85</td>\n",
       "    </tr>\n",
       "    <tr>\n",
       "      <th>650</th>\n",
       "      <td>RL</td>\n",
       "      <td>Land Use</td>\n",
       "      <td>16</td>\n",
       "      <td>American Samoa</td>\n",
       "      <td>5110</td>\n",
       "      <td>Area</td>\n",
       "      <td>6610</td>\n",
       "      <td>Agricultural land</td>\n",
       "      <td>2020</td>\n",
       "      <td>2020</td>\n",
       "      <td>1000 ha</td>\n",
       "      <td>4.01</td>\n",
       "    </tr>\n",
       "    <tr>\n",
       "      <th>867</th>\n",
       "      <td>RL</td>\n",
       "      <td>Land Use</td>\n",
       "      <td>20</td>\n",
       "      <td>Andorra</td>\n",
       "      <td>5110</td>\n",
       "      <td>Area</td>\n",
       "      <td>6610</td>\n",
       "      <td>Agricultural land</td>\n",
       "      <td>2020</td>\n",
       "      <td>2020</td>\n",
       "      <td>1000 ha</td>\n",
       "      <td>18.72</td>\n",
       "    </tr>\n",
       "  </tbody>\n",
       "</table>\n",
       "</div>"
      ],
      "text/plain": [
       "    Domain Code    Domain  Area Code (M49)            Area  Element Code  \\\n",
       "61           RL  Land Use                4     Afghanistan          5110   \n",
       "247          RL  Land Use                8         Albania          5110   \n",
       "433          RL  Land Use               12         Algeria          5110   \n",
       "650          RL  Land Use               16  American Samoa          5110   \n",
       "867          RL  Land Use               20         Andorra          5110   \n",
       "\n",
       "    Element  Item Code               Item  Year Code  Year     Unit     Value  \n",
       "61     Area       6610  Agricultural land       2020  2020  1000 ha  38356.00  \n",
       "247    Area       6610  Agricultural land       2020  2020  1000 ha   1165.56  \n",
       "433    Area       6610  Agricultural land       2020  2020  1000 ha  41358.85  \n",
       "650    Area       6610  Agricultural land       2020  2020  1000 ha      4.01  \n",
       "867    Area       6610  Agricultural land       2020  2020  1000 ha     18.72  "
      ]
     },
     "execution_count": 170,
     "metadata": {},
     "output_type": "execute_result"
    }
   ],
   "source": [
    "#filtering through columns and rows\n",
    "forest_newn=forest_new[forest_new[\"Year\"]==2020]\n",
    "forest_new2=forest_newn[forest_newn[\"Item\"]==\"Agricultural land\"]\n",
    "forest_new2.head()"
   ]
  },
  {
   "cell_type": "code",
   "execution_count": 172,
   "id": "3f0ac29a",
   "metadata": {},
   "outputs": [
    {
     "name": "stdout",
     "output_type": "stream",
     "text": [
      "the mean of the agricultural land worldwide for year 2020:  23228.932378854628\n"
     ]
    }
   ],
   "source": [
    "#the mean of the agricultural land worldwide in 2020\n",
    "print(\"the mean of the agricultural land worldwide for year 2020: \", forest_new2[\"Value\"].mean())"
   ]
  },
  {
   "cell_type": "markdown",
   "id": "e2981d41",
   "metadata": {},
   "source": [
    "We can see a slight decline in the mean of agricultural land in 2020 from 2001"
   ]
  },
  {
   "cell_type": "code",
   "execution_count": 380,
   "id": "206394de",
   "metadata": {},
   "outputs": [
    {
     "data": {
      "text/html": [
       "<div>\n",
       "<style scoped>\n",
       "    .dataframe tbody tr th:only-of-type {\n",
       "        vertical-align: middle;\n",
       "    }\n",
       "\n",
       "    .dataframe tbody tr th {\n",
       "        vertical-align: top;\n",
       "    }\n",
       "\n",
       "    .dataframe thead th {\n",
       "        text-align: right;\n",
       "    }\n",
       "</style>\n",
       "<table border=\"1\" class=\"dataframe\">\n",
       "  <thead>\n",
       "    <tr style=\"text-align: right;\">\n",
       "      <th></th>\n",
       "      <th>Domain Code</th>\n",
       "      <th>Domain</th>\n",
       "      <th>Area Code (M49)</th>\n",
       "      <th>Area</th>\n",
       "      <th>Element Code</th>\n",
       "      <th>Element</th>\n",
       "      <th>Item Code</th>\n",
       "      <th>Item</th>\n",
       "      <th>Year Code</th>\n",
       "      <th>Year</th>\n",
       "      <th>Unit</th>\n",
       "      <th>Value</th>\n",
       "    </tr>\n",
       "  </thead>\n",
       "  <tbody>\n",
       "    <tr>\n",
       "      <th>104</th>\n",
       "      <td>RL</td>\n",
       "      <td>Land Use</td>\n",
       "      <td>4</td>\n",
       "      <td>Afghanistan</td>\n",
       "      <td>5110</td>\n",
       "      <td>Area</td>\n",
       "      <td>6646</td>\n",
       "      <td>Forest land</td>\n",
       "      <td>2001</td>\n",
       "      <td>2001</td>\n",
       "      <td>1000 ha</td>\n",
       "      <td>1208.44</td>\n",
       "    </tr>\n",
       "    <tr>\n",
       "      <th>135</th>\n",
       "      <td>RL</td>\n",
       "      <td>Land Use</td>\n",
       "      <td>4</td>\n",
       "      <td>Afghanistan</td>\n",
       "      <td>5110</td>\n",
       "      <td>Area</td>\n",
       "      <td>6717</td>\n",
       "      <td>Naturally regenerating forest</td>\n",
       "      <td>2001</td>\n",
       "      <td>2001</td>\n",
       "      <td>1000 ha</td>\n",
       "      <td>1208.44</td>\n",
       "    </tr>\n",
       "    <tr>\n",
       "      <th>166</th>\n",
       "      <td>RL</td>\n",
       "      <td>Land Use</td>\n",
       "      <td>4</td>\n",
       "      <td>Afghanistan</td>\n",
       "      <td>5110</td>\n",
       "      <td>Area</td>\n",
       "      <td>6716</td>\n",
       "      <td>Planted Forest</td>\n",
       "      <td>2001</td>\n",
       "      <td>2001</td>\n",
       "      <td>1000 ha</td>\n",
       "      <td>0.00</td>\n",
       "    </tr>\n",
       "    <tr>\n",
       "      <th>290</th>\n",
       "      <td>RL</td>\n",
       "      <td>Land Use</td>\n",
       "      <td>8</td>\n",
       "      <td>Albania</td>\n",
       "      <td>5110</td>\n",
       "      <td>Area</td>\n",
       "      <td>6646</td>\n",
       "      <td>Forest land</td>\n",
       "      <td>2001</td>\n",
       "      <td>2001</td>\n",
       "      <td>1000 ha</td>\n",
       "      <td>770.58</td>\n",
       "    </tr>\n",
       "    <tr>\n",
       "      <th>321</th>\n",
       "      <td>RL</td>\n",
       "      <td>Land Use</td>\n",
       "      <td>8</td>\n",
       "      <td>Albania</td>\n",
       "      <td>5110</td>\n",
       "      <td>Area</td>\n",
       "      <td>6717</td>\n",
       "      <td>Naturally regenerating forest</td>\n",
       "      <td>2001</td>\n",
       "      <td>2001</td>\n",
       "      <td>1000 ha</td>\n",
       "      <td>711.68</td>\n",
       "    </tr>\n",
       "  </tbody>\n",
       "</table>\n",
       "</div>"
      ],
      "text/plain": [
       "    Domain Code    Domain  Area Code (M49)         Area  Element Code Element  \\\n",
       "104          RL  Land Use                4  Afghanistan          5110    Area   \n",
       "135          RL  Land Use                4  Afghanistan          5110    Area   \n",
       "166          RL  Land Use                4  Afghanistan          5110    Area   \n",
       "290          RL  Land Use                8      Albania          5110    Area   \n",
       "321          RL  Land Use                8      Albania          5110    Area   \n",
       "\n",
       "     Item Code                           Item  Year Code  Year     Unit  \\\n",
       "104       6646                    Forest land       2001  2001  1000 ha   \n",
       "135       6717  Naturally regenerating forest       2001  2001  1000 ha   \n",
       "166       6716                 Planted Forest       2001  2001  1000 ha   \n",
       "290       6646                    Forest land       2001  2001  1000 ha   \n",
       "321       6717  Naturally regenerating forest       2001  2001  1000 ha   \n",
       "\n",
       "       Value  \n",
       "104  1208.44  \n",
       "135  1208.44  \n",
       "166     0.00  \n",
       "290   770.58  \n",
       "321   711.68  "
      ]
     },
     "execution_count": 380,
     "metadata": {},
     "output_type": "execute_result"
    }
   ],
   "source": [
    "#filtering through columns and rows\n",
    "forest_newn=forest_new[forest_new[\"Year\"]==2001]\n",
    "array = ['Forest land','Naturally regenerating forest','Planted Forest']\n",
    "forest_new3=forest_newn.loc[forest_newn['Item'].isin(array)]\n",
    "forest_new3.head()"
   ]
  },
  {
   "cell_type": "code",
   "execution_count": 214,
   "id": "55c57493",
   "metadata": {},
   "outputs": [
    {
     "name": "stdout",
     "output_type": "stream",
     "text": [
      "the mean of the forest land worldwide for year 2001:  10375.270902777776\n"
     ]
    }
   ],
   "source": [
    "#the mean of the agricultural land worldwide in 2020\n",
    "print(\"the mean of the forest land worldwide for year 2001: \", forest_new3[\"Value\"].mean())"
   ]
  },
  {
   "cell_type": "code",
   "execution_count": 215,
   "id": "38a49a40",
   "metadata": {},
   "outputs": [
    {
     "data": {
      "text/html": [
       "<div>\n",
       "<style scoped>\n",
       "    .dataframe tbody tr th:only-of-type {\n",
       "        vertical-align: middle;\n",
       "    }\n",
       "\n",
       "    .dataframe tbody tr th {\n",
       "        vertical-align: top;\n",
       "    }\n",
       "\n",
       "    .dataframe thead th {\n",
       "        text-align: right;\n",
       "    }\n",
       "</style>\n",
       "<table border=\"1\" class=\"dataframe\">\n",
       "  <thead>\n",
       "    <tr style=\"text-align: right;\">\n",
       "      <th></th>\n",
       "      <th>Domain Code</th>\n",
       "      <th>Domain</th>\n",
       "      <th>Area Code (M49)</th>\n",
       "      <th>Area</th>\n",
       "      <th>Element Code</th>\n",
       "      <th>Element</th>\n",
       "      <th>Item Code</th>\n",
       "      <th>Item</th>\n",
       "      <th>Year Code</th>\n",
       "      <th>Year</th>\n",
       "      <th>Unit</th>\n",
       "      <th>Value</th>\n",
       "    </tr>\n",
       "  </thead>\n",
       "  <tbody>\n",
       "    <tr>\n",
       "      <th>123</th>\n",
       "      <td>RL</td>\n",
       "      <td>Land Use</td>\n",
       "      <td>4</td>\n",
       "      <td>Afghanistan</td>\n",
       "      <td>5110</td>\n",
       "      <td>Area</td>\n",
       "      <td>6646</td>\n",
       "      <td>Forest land</td>\n",
       "      <td>2020</td>\n",
       "      <td>2020</td>\n",
       "      <td>1000 ha</td>\n",
       "      <td>1208.44</td>\n",
       "    </tr>\n",
       "    <tr>\n",
       "      <th>154</th>\n",
       "      <td>RL</td>\n",
       "      <td>Land Use</td>\n",
       "      <td>4</td>\n",
       "      <td>Afghanistan</td>\n",
       "      <td>5110</td>\n",
       "      <td>Area</td>\n",
       "      <td>6717</td>\n",
       "      <td>Naturally regenerating forest</td>\n",
       "      <td>2020</td>\n",
       "      <td>2020</td>\n",
       "      <td>1000 ha</td>\n",
       "      <td>1208.44</td>\n",
       "    </tr>\n",
       "    <tr>\n",
       "      <th>185</th>\n",
       "      <td>RL</td>\n",
       "      <td>Land Use</td>\n",
       "      <td>4</td>\n",
       "      <td>Afghanistan</td>\n",
       "      <td>5110</td>\n",
       "      <td>Area</td>\n",
       "      <td>6716</td>\n",
       "      <td>Planted Forest</td>\n",
       "      <td>2020</td>\n",
       "      <td>2020</td>\n",
       "      <td>1000 ha</td>\n",
       "      <td>0.00</td>\n",
       "    </tr>\n",
       "    <tr>\n",
       "      <th>309</th>\n",
       "      <td>RL</td>\n",
       "      <td>Land Use</td>\n",
       "      <td>8</td>\n",
       "      <td>Albania</td>\n",
       "      <td>5110</td>\n",
       "      <td>Area</td>\n",
       "      <td>6646</td>\n",
       "      <td>Forest land</td>\n",
       "      <td>2020</td>\n",
       "      <td>2020</td>\n",
       "      <td>1000 ha</td>\n",
       "      <td>788.90</td>\n",
       "    </tr>\n",
       "    <tr>\n",
       "      <th>340</th>\n",
       "      <td>RL</td>\n",
       "      <td>Land Use</td>\n",
       "      <td>8</td>\n",
       "      <td>Albania</td>\n",
       "      <td>5110</td>\n",
       "      <td>Area</td>\n",
       "      <td>6717</td>\n",
       "      <td>Naturally regenerating forest</td>\n",
       "      <td>2020</td>\n",
       "      <td>2020</td>\n",
       "      <td>1000 ha</td>\n",
       "      <td>711.68</td>\n",
       "    </tr>\n",
       "  </tbody>\n",
       "</table>\n",
       "</div>"
      ],
      "text/plain": [
       "    Domain Code    Domain  Area Code (M49)         Area  Element Code Element  \\\n",
       "123          RL  Land Use                4  Afghanistan          5110    Area   \n",
       "154          RL  Land Use                4  Afghanistan          5110    Area   \n",
       "185          RL  Land Use                4  Afghanistan          5110    Area   \n",
       "309          RL  Land Use                8      Albania          5110    Area   \n",
       "340          RL  Land Use                8      Albania          5110    Area   \n",
       "\n",
       "     Item Code                           Item  Year Code  Year     Unit  \\\n",
       "123       6646                    Forest land       2020  2020  1000 ha   \n",
       "154       6717  Naturally regenerating forest       2020  2020  1000 ha   \n",
       "185       6716                 Planted Forest       2020  2020  1000 ha   \n",
       "309       6646                    Forest land       2020  2020  1000 ha   \n",
       "340       6717  Naturally regenerating forest       2020  2020  1000 ha   \n",
       "\n",
       "       Value  \n",
       "123  1208.44  \n",
       "154  1208.44  \n",
       "185     0.00  \n",
       "309   788.90  \n",
       "340   711.68  "
      ]
     },
     "execution_count": 215,
     "metadata": {},
     "output_type": "execute_result"
    }
   ],
   "source": [
    "#filtering through columns and rows\n",
    "forest_newn=forest_new[forest_new[\"Year\"]==2020]\n",
    "array = ['Forest land','Naturally regenerating forest','Planted Forest']\n",
    "forest_new4=forest_newn.loc[forest_newn['Item'].isin(array)]\n",
    "forest_new4.head()"
   ]
  },
  {
   "cell_type": "code",
   "execution_count": 216,
   "id": "e70be6c0",
   "metadata": {},
   "outputs": [
    {
     "name": "stdout",
     "output_type": "stream",
     "text": [
      "the mean of the forest land worldwide for year 2020:  10009.882723163842\n"
     ]
    }
   ],
   "source": [
    "#the mean of the agricultural land worldwide in 2020\n",
    "print(\"the mean of the forest land worldwide for year 2020: \", forest_new4[\"Value\"].mean())"
   ]
  },
  {
   "cell_type": "markdown",
   "id": "a524d4f7",
   "metadata": {},
   "source": [
    "Here, the mean of the forest land worldwide for year 2001:  10375.270902777776 and for year 2020:  10009.882723163842.Therefore we can see a significant decrease of the overall forest land over the year. "
   ]
  },
  {
   "cell_type": "code",
   "execution_count": 390,
   "id": "ab4dcb90",
   "metadata": {},
   "outputs": [],
   "source": [
    "array = ['Forest land','Naturally regenerating forest','Planted Forest']\n",
    "forest_new6=forest_new.loc[forest_new['Item'].isin(array)]\n",
    "#forest_new6.head()"
   ]
  },
  {
   "cell_type": "code",
   "execution_count": 395,
   "id": "47505c49",
   "metadata": {},
   "outputs": [],
   "source": [
    "#to get the mean of redlist index for all the years\n",
    "years=[2001,2002,2003,2004, 2005, 2006, 2007, 2008, 2009 ,2010, 2011, 2012, 2013, 2014,2015, 2016 ,2017, 2018, 2019, 2020]\n",
    "meanfarray=[]\n",
    "for i in years:\n",
    "    redmean4=forest_new6.loc[forest_new6['Year'] == i, 'Value'].mean()\n",
    "    meanfarray.append(redmean4)\n",
    "#print(meanfarray)"
   ]
  },
  {
   "cell_type": "code",
   "execution_count": 396,
   "id": "bc1ab840",
   "metadata": {},
   "outputs": [
    {
     "data": {
      "image/png": "[encoded data removed]",
      "text/plain": [
       "<Figure size 640x480 with 1 Axes>"
      ]
     },
     "metadata": {},
     "output_type": "display_data"
    }
   ],
   "source": [
    "df = pd.DataFrame({\n",
    "   'mean of forest land': meanfarray\n",
    "   }, index=years)\n",
    "lines = df.plot.line()"
   ]
  },
  {
   "cell_type": "markdown",
   "id": "5e8535fb",
   "metadata": {},
   "source": [
    "Clearly visible that the mean of total forest land in decreasing over the years"
   ]
  },
  {
   "cell_type": "markdown",
   "id": "4466644e",
   "metadata": {},
   "source": [
    "# RedList Data"
   ]
  },
  {
   "cell_type": "markdown",
   "id": "e922fec6",
   "metadata": {},
   "source": [
    "#REDLIST DATA\n",
    "\n",
    "The Red List Index measures change in aggregate extinction risk across groups of species\n",
    "The dataset contains the red list index number for 240 countries from 2001 to 2021. The Red List Index value ranges from 1 (all species are categorized as ‘Least Concern') to 0 (all species are categorized as ‘Extinct'), and so indicates how far the set of species has moved overall towards extinction."
   ]
  },
  {
   "cell_type": "code",
   "execution_count": 28,
   "id": "ed46a313",
   "metadata": {},
   "outputs": [
    {
     "name": "stdout",
     "output_type": "stream",
     "text": [
      "   COU Country    VAR Variable - Red List   YEA  Year  Value  Flag Codes  \\\n",
      "0  WLD   World  INDEX      Red List Index  2001  2001  0.794         NaN   \n",
      "1  WLD   World  INDEX      Red List Index  2002  2002  0.791         NaN   \n",
      "2  WLD   World  INDEX      Red List Index  2003  2003  0.787         NaN   \n",
      "3  WLD   World  INDEX      Red List Index  2004  2004  0.784         NaN   \n",
      "4  WLD   World  INDEX      Red List Index  2005  2005  0.781         NaN   \n",
      "\n",
      "   Flags  \n",
      "0    NaN  \n",
      "1    NaN  \n",
      "2    NaN  \n",
      "3    NaN  \n",
      "4    NaN  \n"
     ]
    }
   ],
   "source": [
    "red_list = pd.read_csv('RED_LIST.csv')\n",
    "print(red_list.head())"
   ]
  },
  {
   "cell_type": "code",
   "execution_count": 29,
   "id": "a8ece1a5",
   "metadata": {},
   "outputs": [
    {
     "name": "stdout",
     "output_type": "stream",
     "text": [
      "[2001 2002 2003 2004 2005 2006 2007 2008 2009 2010 2011 2012 2013 2014\n",
      " 2015 2016 2017 2018 2019 2020 2021]\n",
      "number of unique ICUN, year:  21\n",
      "number of unique ICUN, country:  240\n"
     ]
    }
   ],
   "source": [
    "print(red_list[\"Year\"].unique())\n",
    "print(\"number of unique ICUN, year: \", red_list[\"Year\"].nunique())\n",
    "print(\"number of unique ICUN, country: \", red_list[\"Country\"].nunique())"
   ]
  },
  {
   "cell_type": "code",
   "execution_count": 134,
   "id": "a5cc3dec",
   "metadata": {},
   "outputs": [
    {
     "data": {
      "text/html": [
       "<div>\n",
       "<style scoped>\n",
       "    .dataframe tbody tr th:only-of-type {\n",
       "        vertical-align: middle;\n",
       "    }\n",
       "\n",
       "    .dataframe tbody tr th {\n",
       "        vertical-align: top;\n",
       "    }\n",
       "\n",
       "    .dataframe thead th {\n",
       "        text-align: right;\n",
       "    }\n",
       "</style>\n",
       "<table border=\"1\" class=\"dataframe\">\n",
       "  <thead>\n",
       "    <tr style=\"text-align: right;\">\n",
       "      <th></th>\n",
       "      <th>COU</th>\n",
       "      <th>Country</th>\n",
       "      <th>VAR</th>\n",
       "      <th>Variable - Red List</th>\n",
       "      <th>YEA</th>\n",
       "      <th>Year</th>\n",
       "      <th>Value</th>\n",
       "    </tr>\n",
       "  </thead>\n",
       "  <tbody>\n",
       "    <tr>\n",
       "      <th>0</th>\n",
       "      <td>WLD</td>\n",
       "      <td>World</td>\n",
       "      <td>INDEX</td>\n",
       "      <td>Red List Index</td>\n",
       "      <td>2001</td>\n",
       "      <td>2001</td>\n",
       "      <td>0.794</td>\n",
       "    </tr>\n",
       "    <tr>\n",
       "      <th>1</th>\n",
       "      <td>WLD</td>\n",
       "      <td>World</td>\n",
       "      <td>INDEX</td>\n",
       "      <td>Red List Index</td>\n",
       "      <td>2002</td>\n",
       "      <td>2002</td>\n",
       "      <td>0.791</td>\n",
       "    </tr>\n",
       "    <tr>\n",
       "      <th>2</th>\n",
       "      <td>WLD</td>\n",
       "      <td>World</td>\n",
       "      <td>INDEX</td>\n",
       "      <td>Red List Index</td>\n",
       "      <td>2003</td>\n",
       "      <td>2003</td>\n",
       "      <td>0.787</td>\n",
       "    </tr>\n",
       "    <tr>\n",
       "      <th>3</th>\n",
       "      <td>WLD</td>\n",
       "      <td>World</td>\n",
       "      <td>INDEX</td>\n",
       "      <td>Red List Index</td>\n",
       "      <td>2004</td>\n",
       "      <td>2004</td>\n",
       "      <td>0.784</td>\n",
       "    </tr>\n",
       "    <tr>\n",
       "      <th>4</th>\n",
       "      <td>WLD</td>\n",
       "      <td>World</td>\n",
       "      <td>INDEX</td>\n",
       "      <td>Red List Index</td>\n",
       "      <td>2005</td>\n",
       "      <td>2005</td>\n",
       "      <td>0.781</td>\n",
       "    </tr>\n",
       "  </tbody>\n",
       "</table>\n",
       "</div>"
      ],
      "text/plain": [
       "   COU Country    VAR Variable - Red List   YEA  Year  Value\n",
       "0  WLD   World  INDEX      Red List Index  2001  2001  0.794\n",
       "1  WLD   World  INDEX      Red List Index  2002  2002  0.791\n",
       "2  WLD   World  INDEX      Red List Index  2003  2003  0.787\n",
       "3  WLD   World  INDEX      Red List Index  2004  2004  0.784\n",
       "4  WLD   World  INDEX      Red List Index  2005  2005  0.781"
      ]
     },
     "execution_count": 134,
     "metadata": {},
     "output_type": "execute_result"
    }
   ],
   "source": [
    "#dropping unnecessary columns\n",
    "red_list_new=red_list.drop(columns = [\"Flag Codes\",\"Flags\" ])\n",
    "red_list_new.head()"
   ]
  },
  {
   "cell_type": "code",
   "execution_count": 135,
   "id": "2c3ab94e",
   "metadata": {},
   "outputs": [
    {
     "data": {
      "text/plain": [
       "False"
      ]
     },
     "execution_count": 135,
     "metadata": {},
     "output_type": "execute_result"
    }
   ],
   "source": [
    "# to check if there is any missing value in a column\n",
    "red_list_new.isnull().Value.any()\n",
    "#red_list.isnull().Year.any()"
   ]
  },
  {
   "cell_type": "markdown",
   "id": "b16548eb",
   "metadata": {},
   "source": [
    "It shows this dataset doesnot have any missing value(not even the main dataset)"
   ]
  },
  {
   "cell_type": "code",
   "execution_count": 278,
   "id": "fd1b4fcb",
   "metadata": {},
   "outputs": [
    {
     "data": {
      "text/plain": [
       "0        False\n",
       "1        False\n",
       "2        False\n",
       "3        False\n",
       "4        False\n",
       "         ...  \n",
       "15115    False\n",
       "15116    False\n",
       "15117    False\n",
       "15118    False\n",
       "15119    False\n",
       "Length: 15120, dtype: bool"
      ]
     },
     "execution_count": 278,
     "metadata": {},
     "output_type": "execute_result"
    }
   ],
   "source": [
    "#to check if there is any duplicate value exist; output shows none\n",
    "red_list_new.duplicated()"
   ]
  },
  {
   "cell_type": "markdown",
   "id": "4d68b5ca",
   "metadata": {},
   "source": [
    "#Mean"
   ]
  },
  {
   "cell_type": "code",
   "execution_count": 140,
   "id": "5533eb79",
   "metadata": {},
   "outputs": [
    {
     "data": {
      "text/html": [
       "<div>\n",
       "<style scoped>\n",
       "    .dataframe tbody tr th:only-of-type {\n",
       "        vertical-align: middle;\n",
       "    }\n",
       "\n",
       "    .dataframe tbody tr th {\n",
       "        vertical-align: top;\n",
       "    }\n",
       "\n",
       "    .dataframe thead th {\n",
       "        text-align: right;\n",
       "    }\n",
       "</style>\n",
       "<table border=\"1\" class=\"dataframe\">\n",
       "  <thead>\n",
       "    <tr style=\"text-align: right;\">\n",
       "      <th></th>\n",
       "      <th>COU</th>\n",
       "      <th>Country</th>\n",
       "      <th>VAR</th>\n",
       "      <th>Variable - Red List</th>\n",
       "      <th>YEA</th>\n",
       "      <th>Year</th>\n",
       "      <th>Value</th>\n",
       "    </tr>\n",
       "  </thead>\n",
       "  <tbody>\n",
       "    <tr>\n",
       "      <th>0</th>\n",
       "      <td>WLD</td>\n",
       "      <td>World</td>\n",
       "      <td>INDEX</td>\n",
       "      <td>Red List Index</td>\n",
       "      <td>2001</td>\n",
       "      <td>2001</td>\n",
       "      <td>0.794</td>\n",
       "    </tr>\n",
       "    <tr>\n",
       "      <th>63</th>\n",
       "      <td>LIE</td>\n",
       "      <td>Liechtenstein</td>\n",
       "      <td>INDEX</td>\n",
       "      <td>Red List Index</td>\n",
       "      <td>2001</td>\n",
       "      <td>2001</td>\n",
       "      <td>0.991</td>\n",
       "    </tr>\n",
       "    <tr>\n",
       "      <th>147</th>\n",
       "      <td>WSM</td>\n",
       "      <td>Samoa</td>\n",
       "      <td>INDEX</td>\n",
       "      <td>Red List Index</td>\n",
       "      <td>2001</td>\n",
       "      <td>2001</td>\n",
       "      <td>0.784</td>\n",
       "    </tr>\n",
       "    <tr>\n",
       "      <th>189</th>\n",
       "      <td>ASM</td>\n",
       "      <td>American Samoa</td>\n",
       "      <td>INDEX</td>\n",
       "      <td>Red List Index</td>\n",
       "      <td>2001</td>\n",
       "      <td>2001</td>\n",
       "      <td>0.869</td>\n",
       "    </tr>\n",
       "    <tr>\n",
       "      <th>231</th>\n",
       "      <td>LUX</td>\n",
       "      <td>Luxembourg</td>\n",
       "      <td>INDEX</td>\n",
       "      <td>Red List Index</td>\n",
       "      <td>2001</td>\n",
       "      <td>2001</td>\n",
       "      <td>0.983</td>\n",
       "    </tr>\n",
       "  </tbody>\n",
       "</table>\n",
       "</div>"
      ],
      "text/plain": [
       "     COU         Country    VAR Variable - Red List   YEA  Year  Value\n",
       "0    WLD           World  INDEX      Red List Index  2001  2001  0.794\n",
       "63   LIE   Liechtenstein  INDEX      Red List Index  2001  2001  0.991\n",
       "147  WSM           Samoa  INDEX      Red List Index  2001  2001  0.784\n",
       "189  ASM  American Samoa  INDEX      Red List Index  2001  2001  0.869\n",
       "231  LUX      Luxembourg  INDEX      Red List Index  2001  2001  0.983"
      ]
     },
     "execution_count": 140,
     "metadata": {},
     "output_type": "execute_result"
    }
   ],
   "source": [
    "#filtering through columns and rows\n",
    "red_listn=red_list_new[red_list_new[\"Year\"]==2001]\n",
    "red_list1=red_listn[red_listn[\"VAR\"]==\"INDEX\"]\n",
    "red_list1.head()"
   ]
  },
  {
   "cell_type": "code",
   "execution_count": 158,
   "id": "b950a8eb",
   "metadata": {},
   "outputs": [
    {
     "name": "stdout",
     "output_type": "stream",
     "text": [
      "the mean of the red list index for year 2001:  0.8644208333333334\n"
     ]
    }
   ],
   "source": [
    "#the mean of the red list index around the world\n",
    "print(\"the mean of the red list index for year 2001: \", red_list1[\"Value\"].mean())"
   ]
  },
  {
   "cell_type": "code",
   "execution_count": 159,
   "id": "0cc2cb2d",
   "metadata": {},
   "outputs": [
    {
     "data": {
      "text/html": [
       "<div>\n",
       "<style scoped>\n",
       "    .dataframe tbody tr th:only-of-type {\n",
       "        vertical-align: middle;\n",
       "    }\n",
       "\n",
       "    .dataframe tbody tr th {\n",
       "        vertical-align: top;\n",
       "    }\n",
       "\n",
       "    .dataframe thead th {\n",
       "        text-align: right;\n",
       "    }\n",
       "</style>\n",
       "<table border=\"1\" class=\"dataframe\">\n",
       "  <thead>\n",
       "    <tr style=\"text-align: right;\">\n",
       "      <th></th>\n",
       "      <th>COU</th>\n",
       "      <th>Country</th>\n",
       "      <th>VAR</th>\n",
       "      <th>Variable - Red List</th>\n",
       "      <th>YEA</th>\n",
       "      <th>Year</th>\n",
       "      <th>Value</th>\n",
       "    </tr>\n",
       "  </thead>\n",
       "  <tbody>\n",
       "    <tr>\n",
       "      <th>19</th>\n",
       "      <td>WLD</td>\n",
       "      <td>World</td>\n",
       "      <td>INDEX</td>\n",
       "      <td>Red List Index</td>\n",
       "      <td>2020</td>\n",
       "      <td>2020</td>\n",
       "      <td>0.729</td>\n",
       "    </tr>\n",
       "    <tr>\n",
       "      <th>82</th>\n",
       "      <td>LIE</td>\n",
       "      <td>Liechtenstein</td>\n",
       "      <td>INDEX</td>\n",
       "      <td>Red List Index</td>\n",
       "      <td>2020</td>\n",
       "      <td>2020</td>\n",
       "      <td>0.991</td>\n",
       "    </tr>\n",
       "    <tr>\n",
       "      <th>166</th>\n",
       "      <td>WSM</td>\n",
       "      <td>Samoa</td>\n",
       "      <td>INDEX</td>\n",
       "      <td>Red List Index</td>\n",
       "      <td>2020</td>\n",
       "      <td>2020</td>\n",
       "      <td>0.762</td>\n",
       "    </tr>\n",
       "    <tr>\n",
       "      <th>208</th>\n",
       "      <td>ASM</td>\n",
       "      <td>American Samoa</td>\n",
       "      <td>INDEX</td>\n",
       "      <td>Red List Index</td>\n",
       "      <td>2020</td>\n",
       "      <td>2020</td>\n",
       "      <td>0.863</td>\n",
       "    </tr>\n",
       "    <tr>\n",
       "      <th>250</th>\n",
       "      <td>LUX</td>\n",
       "      <td>Luxembourg</td>\n",
       "      <td>INDEX</td>\n",
       "      <td>Red List Index</td>\n",
       "      <td>2020</td>\n",
       "      <td>2020</td>\n",
       "      <td>0.985</td>\n",
       "    </tr>\n",
       "  </tbody>\n",
       "</table>\n",
       "</div>"
      ],
      "text/plain": [
       "     COU         Country    VAR Variable - Red List   YEA  Year  Value\n",
       "19   WLD           World  INDEX      Red List Index  2020  2020  0.729\n",
       "82   LIE   Liechtenstein  INDEX      Red List Index  2020  2020  0.991\n",
       "166  WSM           Samoa  INDEX      Red List Index  2020  2020  0.762\n",
       "208  ASM  American Samoa  INDEX      Red List Index  2020  2020  0.863\n",
       "250  LUX      Luxembourg  INDEX      Red List Index  2020  2020  0.985"
      ]
     },
     "execution_count": 159,
     "metadata": {},
     "output_type": "execute_result"
    }
   ],
   "source": [
    "#filtering through columns and rows\n",
    "red_listn=red_list_new[red_list_new[\"Year\"]==2020]\n",
    "red_list2=red_listn[red_listn[\"VAR\"]==\"INDEX\"]\n",
    "red_list2.head()"
   ]
  },
  {
   "cell_type": "code",
   "execution_count": 160,
   "id": "ec5a34db",
   "metadata": {},
   "outputs": [
    {
     "name": "stdout",
     "output_type": "stream",
     "text": [
      "the mean of the red list index for year 2020:  0.8389291666666667\n"
     ]
    }
   ],
   "source": [
    "#the mean of the red list index around the world\n",
    "print(\"the mean of the red list index for year 2020: \", red_list2[\"Value\"].mean())"
   ]
  },
  {
   "cell_type": "markdown",
   "id": "5c9e31d3",
   "metadata": {},
   "source": [
    "Here we can see that there is not much significant difference between the mean of the red list index in 2001 and 2020."
   ]
  },
  {
   "cell_type": "code",
   "execution_count": 398,
   "id": "55a8fbfe",
   "metadata": {},
   "outputs": [],
   "source": [
    "#to get the mean of redlist index for all the years\n",
    "years=[2001,2002,2003,2004, 2005, 2006, 2007, 2008, 2009 ,2010, 2011, 2012, 2013, 2014,2015, 2016 ,2017, 2018, 2019, 2020]\n",
    "meanarray=[]\n",
    "for i in years:\n",
    "    redmean4=red_list_new.loc[red_list_new['Year'] == i, 'Value'].mean()\n",
    "    meanarray.append(redmean4)\n",
    "#print(meanarray)"
   ]
  },
  {
   "cell_type": "code",
   "execution_count": 399,
   "id": "ff4a8311",
   "metadata": {},
   "outputs": [
    {
     "data": {
      "image/png": "[encoded data removed]",
      "text/plain": [
       "<Figure size 640x480 with 1 Axes>"
      ]
     },
     "metadata": {},
     "output_type": "display_data"
    }
   ],
   "source": [
    "df = pd.DataFrame({\n",
    "   'val': meanarray\n",
    "   }, index=years)\n",
    "lines = df.plot.line()"
   ]
  },
  {
   "cell_type": "markdown",
   "id": "8a9a1f3c",
   "metadata": {},
   "source": [
    "the mean of the redlist index is decreasing overthe year. according to the redlist, the more the value is close to 0, the more likely the species is to extinc. therefore, we can say that the probability for the species to extinc is increasing"
   ]
  },
  {
   "cell_type": "markdown",
   "id": "36e8c34b",
   "metadata": {},
   "source": [
    "# For Wildlife Data"
   ]
  },
  {
   "cell_type": "markdown",
   "id": "b3b2211a",
   "metadata": {},
   "source": [
    "FOR WILDLIFE DATA\n",
    "\n",
    "Threatened species as % of known species. \n",
    "Species assessed as Critically Endangered (CR), Endangered (EN), or Vulnerable (VU) are referred to as \"threatened\" species. "
   ]
  },
  {
   "cell_type": "code",
   "execution_count": 30,
   "id": "3d26adf7",
   "metadata": {},
   "outputs": [
    {
     "name": "stdout",
     "output_type": "stream",
     "text": [
      "            IUCN                             IUCN Category    SPEC  Species  \\\n",
      "0      TOT_KNOWN             Total number of known species  MAMMAL  Mammals   \n",
      "1  TOT_KNOWN_IND  Total number of indigenous known species  MAMMAL  Mammals   \n",
      "2     ENDANGERED              Number of endangered species  MAMMAL  Mammals   \n",
      "3       CRITICAL   Number of critically endangered species  MAMMAL  Mammals   \n",
      "4     VULNERABLE              Number of vulnerable species  MAMMAL  Mammals   \n",
      "\n",
      "   COU    Country Unit Code    Unit  PowerCode Code PowerCode  \\\n",
      "0  AUS  Australia       NBR  Number               0     Units   \n",
      "1  AUS  Australia       NBR  Number               0     Units   \n",
      "2  AUS  Australia       NBR  Number               0     Units   \n",
      "3  AUS  Australia       NBR  Number               0     Units   \n",
      "4  AUS  Australia       NBR  Number               0     Units   \n",
      "\n",
      "   Reference Period Code  Reference Period  Value Flag Codes Flags  \n",
      "0                    NaN               NaN  377.0        NaN   NaN  \n",
      "1                    NaN               NaN  352.0        NaN   NaN  \n",
      "2                    NaN               NaN   41.0        NaN   NaN  \n",
      "3                    NaN               NaN    9.0        NaN   NaN  \n",
      "4                    NaN               NaN   57.0        NaN   NaN  \n"
     ]
    }
   ],
   "source": [
    "wild_life = pd.read_csv('WILD_LIFE.csv')\n",
    "print(wild_life.head())"
   ]
  },
  {
   "cell_type": "code",
   "execution_count": 124,
   "id": "015344d8",
   "metadata": {},
   "outputs": [
    {
     "name": "stdout",
     "output_type": "stream",
     "text": [
      "['Total number of known species'\n",
      " 'Total number of indigenous known species' 'Number of endangered species'\n",
      " 'Number of critically endangered species' 'Number of vulnerable species'\n",
      " 'Total number of threatened species'\n",
      " 'Number of endangered indigenous species'\n",
      " 'Number of critically endangered indigenous species'\n",
      " 'Number of vulnerable indigenous species'\n",
      " 'Threatened species as % of known species'\n",
      " 'Total number of indigenous threatened species'\n",
      " 'Threatened indigenous species as % of indigenous spec.']\n",
      "number of unique ICUN:  12\n",
      "['TOT_KNOWN' 'TOT_KNOWN_IND' 'ENDANGERED' 'CRITICAL' 'VULNERABLE'\n",
      " 'THREATENED' 'ENDANGERED_IND' 'CRITICAL_IND' 'VULNERABLE_IND'\n",
      " 'THREAT_PERCENT' 'THREATENED_IND' 'IND_PERCENT']\n",
      "['Mammals' 'Birds' 'Reptiles' 'Amphibians' 'Vascular plants' 'Fish'\n",
      " 'Marine Fish' 'Freshwater Fish' 'Mosses' 'Lichens' 'Invertebrates']\n",
      "number of unique ICUN, species:  11\n",
      "number of unique ICUN, country  39\n"
     ]
    }
   ],
   "source": [
    "print(wild_life[\"IUCN Category\"].unique())\n",
    "print(\"number of unique ICUN: \", wild_life[\"IUCN\"].nunique())\n",
    "print(wild_life[\"IUCN\"].unique())\n",
    "print(wild_life[\"Species\"].unique())\n",
    "print(\"number of unique ICUN, species: \", wild_life[\"Species\"].nunique())\n",
    "print(\"number of unique ICUN, country \", wild_life[\"Country\"].nunique())"
   ]
  },
  {
   "cell_type": "markdown",
   "id": "25edf924",
   "metadata": {},
   "source": [
    "DATA PREPROCESSING FOR WILD_LIFE"
   ]
  },
  {
   "cell_type": "code",
   "execution_count": 245,
   "id": "ba1e22ea",
   "metadata": {},
   "outputs": [
    {
     "data": {
      "text/html": [
       "<div>\n",
       "<style scoped>\n",
       "    .dataframe tbody tr th:only-of-type {\n",
       "        vertical-align: middle;\n",
       "    }\n",
       "\n",
       "    .dataframe tbody tr th {\n",
       "        vertical-align: top;\n",
       "    }\n",
       "\n",
       "    .dataframe thead th {\n",
       "        text-align: right;\n",
       "    }\n",
       "</style>\n",
       "<table border=\"1\" class=\"dataframe\">\n",
       "  <thead>\n",
       "    <tr style=\"text-align: right;\">\n",
       "      <th></th>\n",
       "      <th>IUCN</th>\n",
       "      <th>IUCN Category</th>\n",
       "      <th>SPEC</th>\n",
       "      <th>Species</th>\n",
       "      <th>COU</th>\n",
       "      <th>Country</th>\n",
       "      <th>Unit Code</th>\n",
       "      <th>Unit</th>\n",
       "      <th>PowerCode</th>\n",
       "      <th>Value</th>\n",
       "    </tr>\n",
       "  </thead>\n",
       "  <tbody>\n",
       "    <tr>\n",
       "      <th>0</th>\n",
       "      <td>TOT_KNOWN</td>\n",
       "      <td>Total number of known species</td>\n",
       "      <td>MAMMAL</td>\n",
       "      <td>Mammals</td>\n",
       "      <td>AUS</td>\n",
       "      <td>Australia</td>\n",
       "      <td>NBR</td>\n",
       "      <td>Number</td>\n",
       "      <td>Units</td>\n",
       "      <td>377.0</td>\n",
       "    </tr>\n",
       "    <tr>\n",
       "      <th>1</th>\n",
       "      <td>TOT_KNOWN_IND</td>\n",
       "      <td>Total number of indigenous known species</td>\n",
       "      <td>MAMMAL</td>\n",
       "      <td>Mammals</td>\n",
       "      <td>AUS</td>\n",
       "      <td>Australia</td>\n",
       "      <td>NBR</td>\n",
       "      <td>Number</td>\n",
       "      <td>Units</td>\n",
       "      <td>352.0</td>\n",
       "    </tr>\n",
       "    <tr>\n",
       "      <th>2</th>\n",
       "      <td>ENDANGERED</td>\n",
       "      <td>Number of endangered species</td>\n",
       "      <td>MAMMAL</td>\n",
       "      <td>Mammals</td>\n",
       "      <td>AUS</td>\n",
       "      <td>Australia</td>\n",
       "      <td>NBR</td>\n",
       "      <td>Number</td>\n",
       "      <td>Units</td>\n",
       "      <td>41.0</td>\n",
       "    </tr>\n",
       "    <tr>\n",
       "      <th>3</th>\n",
       "      <td>CRITICAL</td>\n",
       "      <td>Number of critically endangered species</td>\n",
       "      <td>MAMMAL</td>\n",
       "      <td>Mammals</td>\n",
       "      <td>AUS</td>\n",
       "      <td>Australia</td>\n",
       "      <td>NBR</td>\n",
       "      <td>Number</td>\n",
       "      <td>Units</td>\n",
       "      <td>9.0</td>\n",
       "    </tr>\n",
       "    <tr>\n",
       "      <th>4</th>\n",
       "      <td>VULNERABLE</td>\n",
       "      <td>Number of vulnerable species</td>\n",
       "      <td>MAMMAL</td>\n",
       "      <td>Mammals</td>\n",
       "      <td>AUS</td>\n",
       "      <td>Australia</td>\n",
       "      <td>NBR</td>\n",
       "      <td>Number</td>\n",
       "      <td>Units</td>\n",
       "      <td>57.0</td>\n",
       "    </tr>\n",
       "  </tbody>\n",
       "</table>\n",
       "</div>"
      ],
      "text/plain": [
       "            IUCN                             IUCN Category    SPEC  Species  \\\n",
       "0      TOT_KNOWN             Total number of known species  MAMMAL  Mammals   \n",
       "1  TOT_KNOWN_IND  Total number of indigenous known species  MAMMAL  Mammals   \n",
       "2     ENDANGERED              Number of endangered species  MAMMAL  Mammals   \n",
       "3       CRITICAL   Number of critically endangered species  MAMMAL  Mammals   \n",
       "4     VULNERABLE              Number of vulnerable species  MAMMAL  Mammals   \n",
       "\n",
       "   COU    Country Unit Code    Unit PowerCode  Value  \n",
       "0  AUS  Australia       NBR  Number     Units  377.0  \n",
       "1  AUS  Australia       NBR  Number     Units  352.0  \n",
       "2  AUS  Australia       NBR  Number     Units   41.0  \n",
       "3  AUS  Australia       NBR  Number     Units    9.0  \n",
       "4  AUS  Australia       NBR  Number     Units   57.0  "
      ]
     },
     "execution_count": 245,
     "metadata": {},
     "output_type": "execute_result"
    }
   ],
   "source": [
    "#dropping unnecessary columns\n",
    "wild_life_new=wild_life.drop(columns = [\"PowerCode Code\", \"Reference Period\", \"Reference Period Code\", \"Flag Codes\",\"Flags\" ])\n",
    "wild_life_new.head()"
   ]
  },
  {
   "cell_type": "code",
   "execution_count": 90,
   "id": "f0a38d61",
   "metadata": {},
   "outputs": [
    {
     "data": {
      "text/html": [
       "<div>\n",
       "<style scoped>\n",
       "    .dataframe tbody tr th:only-of-type {\n",
       "        vertical-align: middle;\n",
       "    }\n",
       "\n",
       "    .dataframe tbody tr th {\n",
       "        vertical-align: top;\n",
       "    }\n",
       "\n",
       "    .dataframe thead th {\n",
       "        text-align: right;\n",
       "    }\n",
       "</style>\n",
       "<table border=\"1\" class=\"dataframe\">\n",
       "  <thead>\n",
       "    <tr style=\"text-align: right;\">\n",
       "      <th></th>\n",
       "      <th>IUCN</th>\n",
       "      <th>IUCN Category</th>\n",
       "      <th>SPEC</th>\n",
       "      <th>Species</th>\n",
       "      <th>COU</th>\n",
       "      <th>Country</th>\n",
       "      <th>Unit Code</th>\n",
       "      <th>Unit</th>\n",
       "      <th>PowerCode</th>\n",
       "      <th>Value</th>\n",
       "    </tr>\n",
       "  </thead>\n",
       "  <tbody>\n",
       "    <tr>\n",
       "      <th>0</th>\n",
       "      <td>False</td>\n",
       "      <td>False</td>\n",
       "      <td>False</td>\n",
       "      <td>False</td>\n",
       "      <td>False</td>\n",
       "      <td>False</td>\n",
       "      <td>False</td>\n",
       "      <td>False</td>\n",
       "      <td>False</td>\n",
       "      <td>False</td>\n",
       "    </tr>\n",
       "    <tr>\n",
       "      <th>1</th>\n",
       "      <td>False</td>\n",
       "      <td>False</td>\n",
       "      <td>False</td>\n",
       "      <td>False</td>\n",
       "      <td>False</td>\n",
       "      <td>False</td>\n",
       "      <td>False</td>\n",
       "      <td>False</td>\n",
       "      <td>False</td>\n",
       "      <td>False</td>\n",
       "    </tr>\n",
       "    <tr>\n",
       "      <th>2</th>\n",
       "      <td>False</td>\n",
       "      <td>False</td>\n",
       "      <td>False</td>\n",
       "      <td>False</td>\n",
       "      <td>False</td>\n",
       "      <td>False</td>\n",
       "      <td>False</td>\n",
       "      <td>False</td>\n",
       "      <td>False</td>\n",
       "      <td>False</td>\n",
       "    </tr>\n",
       "    <tr>\n",
       "      <th>3</th>\n",
       "      <td>False</td>\n",
       "      <td>False</td>\n",
       "      <td>False</td>\n",
       "      <td>False</td>\n",
       "      <td>False</td>\n",
       "      <td>False</td>\n",
       "      <td>False</td>\n",
       "      <td>False</td>\n",
       "      <td>False</td>\n",
       "      <td>False</td>\n",
       "    </tr>\n",
       "    <tr>\n",
       "      <th>4</th>\n",
       "      <td>False</td>\n",
       "      <td>False</td>\n",
       "      <td>False</td>\n",
       "      <td>False</td>\n",
       "      <td>False</td>\n",
       "      <td>False</td>\n",
       "      <td>False</td>\n",
       "      <td>False</td>\n",
       "      <td>False</td>\n",
       "      <td>False</td>\n",
       "    </tr>\n",
       "  </tbody>\n",
       "</table>\n",
       "</div>"
      ],
      "text/plain": [
       "    IUCN  IUCN Category   SPEC  Species    COU  Country  Unit Code   Unit  \\\n",
       "0  False          False  False    False  False    False      False  False   \n",
       "1  False          False  False    False  False    False      False  False   \n",
       "2  False          False  False    False  False    False      False  False   \n",
       "3  False          False  False    False  False    False      False  False   \n",
       "4  False          False  False    False  False    False      False  False   \n",
       "\n",
       "   PowerCode  Value  \n",
       "0      False  False  \n",
       "1      False  False  \n",
       "2      False  False  \n",
       "3      False  False  \n",
       "4      False  False  "
      ]
     },
     "execution_count": 90,
     "metadata": {},
     "output_type": "execute_result"
    }
   ],
   "source": [
    "# to check if there is any missing value in a column\n",
    "wild_life_new.isnull().head()\n",
    "#wild_life.isnull().Value.any()"
   ]
  },
  {
   "cell_type": "markdown",
   "id": "ece9c781",
   "metadata": {},
   "source": [
    "It shows there is no null values. However, while downloading it didnot downloded the rows which does not have values. therefore, for example is there is no value for the threathened mammals in france, that row in not there. The rows are automatically dropped. \n",
    "So, we can say the missing value problem is being solved here by dropping thr entries. "
   ]
  },
  {
   "cell_type": "code",
   "execution_count": 145,
   "id": "24fe3a94",
   "metadata": {},
   "outputs": [
    {
     "data": {
      "text/plain": [
       "0       False\n",
       "1       False\n",
       "2       False\n",
       "3       False\n",
       "4       False\n",
       "        ...  \n",
       "3626    False\n",
       "3627    False\n",
       "3628    False\n",
       "3629    False\n",
       "3630    False\n",
       "Length: 3631, dtype: bool"
      ]
     },
     "execution_count": 145,
     "metadata": {},
     "output_type": "execute_result"
    }
   ],
   "source": [
    "#to check if there is any duplicate value exist; output shows none\n",
    "wild_life_new.duplicated()\n",
    "#wild_life_new"
   ]
  },
  {
   "cell_type": "code",
   "execution_count": 92,
   "id": "42c4b86d",
   "metadata": {},
   "outputs": [
    {
     "data": {
      "text/plain": [
       "count      3631.000000\n",
       "mean        498.453870\n",
       "std        3582.194685\n",
       "min           0.000000\n",
       "25%           6.000000\n",
       "50%          23.267000\n",
       "75%          90.000000\n",
       "max      114940.000000\n",
       "Name: Value, dtype: float64"
      ]
     },
     "execution_count": 92,
     "metadata": {},
     "output_type": "execute_result"
    }
   ],
   "source": [
    "wild_life_new.Value.describe()"
   ]
  },
  {
   "cell_type": "code",
   "execution_count": 146,
   "id": "df5bc844",
   "metadata": {},
   "outputs": [
    {
     "data": {
      "text/html": [
       "<div>\n",
       "<style scoped>\n",
       "    .dataframe tbody tr th:only-of-type {\n",
       "        vertical-align: middle;\n",
       "    }\n",
       "\n",
       "    .dataframe tbody tr th {\n",
       "        vertical-align: top;\n",
       "    }\n",
       "\n",
       "    .dataframe thead th {\n",
       "        text-align: right;\n",
       "    }\n",
       "</style>\n",
       "<table border=\"1\" class=\"dataframe\">\n",
       "  <thead>\n",
       "    <tr style=\"text-align: right;\">\n",
       "      <th></th>\n",
       "      <th>IUCN</th>\n",
       "      <th>IUCN Category</th>\n",
       "      <th>SPEC</th>\n",
       "      <th>Species</th>\n",
       "      <th>COU</th>\n",
       "      <th>Country</th>\n",
       "      <th>Unit Code</th>\n",
       "      <th>Unit</th>\n",
       "      <th>PowerCode</th>\n",
       "      <th>Value</th>\n",
       "    </tr>\n",
       "  </thead>\n",
       "  <tbody>\n",
       "    <tr>\n",
       "      <th>0</th>\n",
       "      <td>TOT_KNOWN</td>\n",
       "      <td>Total number of known species</td>\n",
       "      <td>MAMMAL</td>\n",
       "      <td>Mammals</td>\n",
       "      <td>AUS</td>\n",
       "      <td>Australia</td>\n",
       "      <td>NBR</td>\n",
       "      <td>Number</td>\n",
       "      <td>Units</td>\n",
       "      <td>377.0</td>\n",
       "    </tr>\n",
       "    <tr>\n",
       "      <th>6</th>\n",
       "      <td>TOT_KNOWN</td>\n",
       "      <td>Total number of known species</td>\n",
       "      <td>MAMMAL</td>\n",
       "      <td>Mammals</td>\n",
       "      <td>AUT</td>\n",
       "      <td>Austria</td>\n",
       "      <td>NBR</td>\n",
       "      <td>Number</td>\n",
       "      <td>Units</td>\n",
       "      <td>104.0</td>\n",
       "    </tr>\n",
       "    <tr>\n",
       "      <th>15</th>\n",
       "      <td>TOT_KNOWN</td>\n",
       "      <td>Total number of known species</td>\n",
       "      <td>MAMMAL</td>\n",
       "      <td>Mammals</td>\n",
       "      <td>BEL</td>\n",
       "      <td>Belgium</td>\n",
       "      <td>NBR</td>\n",
       "      <td>Number</td>\n",
       "      <td>Units</td>\n",
       "      <td>84.0</td>\n",
       "    </tr>\n",
       "    <tr>\n",
       "      <th>24</th>\n",
       "      <td>TOT_KNOWN</td>\n",
       "      <td>Total number of known species</td>\n",
       "      <td>MAMMAL</td>\n",
       "      <td>Mammals</td>\n",
       "      <td>CAN</td>\n",
       "      <td>Canada</td>\n",
       "      <td>NBR</td>\n",
       "      <td>Number</td>\n",
       "      <td>Units</td>\n",
       "      <td>222.0</td>\n",
       "    </tr>\n",
       "    <tr>\n",
       "      <th>31</th>\n",
       "      <td>TOT_KNOWN</td>\n",
       "      <td>Total number of known species</td>\n",
       "      <td>MAMMAL</td>\n",
       "      <td>Mammals</td>\n",
       "      <td>CZE</td>\n",
       "      <td>Czech Republic</td>\n",
       "      <td>NBR</td>\n",
       "      <td>Number</td>\n",
       "      <td>Units</td>\n",
       "      <td>92.0</td>\n",
       "    </tr>\n",
       "  </tbody>\n",
       "</table>\n",
       "</div>"
      ],
      "text/plain": [
       "         IUCN                  IUCN Category    SPEC  Species  COU  \\\n",
       "0   TOT_KNOWN  Total number of known species  MAMMAL  Mammals  AUS   \n",
       "6   TOT_KNOWN  Total number of known species  MAMMAL  Mammals  AUT   \n",
       "15  TOT_KNOWN  Total number of known species  MAMMAL  Mammals  BEL   \n",
       "24  TOT_KNOWN  Total number of known species  MAMMAL  Mammals  CAN   \n",
       "31  TOT_KNOWN  Total number of known species  MAMMAL  Mammals  CZE   \n",
       "\n",
       "           Country Unit Code    Unit PowerCode  Value  \n",
       "0        Australia       NBR  Number     Units  377.0  \n",
       "6          Austria       NBR  Number     Units  104.0  \n",
       "15         Belgium       NBR  Number     Units   84.0  \n",
       "24          Canada       NBR  Number     Units  222.0  \n",
       "31  Czech Republic       NBR  Number     Units   92.0  "
      ]
     },
     "execution_count": 146,
     "metadata": {},
     "output_type": "execute_result"
    }
   ],
   "source": [
    "#filtering through columns and rows\n",
    "wild_totknown=wild_life_new[wild_life_new[\"IUCN\"]==\"TOT_KNOWN\"]\n",
    "#wild_totknownmammal = wild_totknown[wild_totknown['Country']==\"Australia\"]\n",
    "wild_totknown.head()"
   ]
  },
  {
   "cell_type": "code",
   "execution_count": 224,
   "id": "1b63f6f6",
   "metadata": {},
   "outputs": [
    {
     "name": "stdout",
     "output_type": "stream",
     "text": [
      "the mean of the total number of known species:  2881.6796657381615\n"
     ]
    }
   ],
   "source": [
    "#the mean of the total number of known species around the world\n",
    "wmean=wild_totknown[\"Value\"].mean()\n",
    "print(\"the mean of the total number of known species: \",wmean )"
   ]
  },
  {
   "cell_type": "code",
   "execution_count": 148,
   "id": "ea135113",
   "metadata": {},
   "outputs": [
    {
     "data": {
      "text/html": [
       "<div>\n",
       "<style scoped>\n",
       "    .dataframe tbody tr th:only-of-type {\n",
       "        vertical-align: middle;\n",
       "    }\n",
       "\n",
       "    .dataframe tbody tr th {\n",
       "        vertical-align: top;\n",
       "    }\n",
       "\n",
       "    .dataframe thead th {\n",
       "        text-align: right;\n",
       "    }\n",
       "</style>\n",
       "<table border=\"1\" class=\"dataframe\">\n",
       "  <thead>\n",
       "    <tr style=\"text-align: right;\">\n",
       "      <th></th>\n",
       "      <th>IUCN</th>\n",
       "      <th>IUCN Category</th>\n",
       "      <th>SPEC</th>\n",
       "      <th>Species</th>\n",
       "      <th>COU</th>\n",
       "      <th>Country</th>\n",
       "      <th>Unit Code</th>\n",
       "      <th>Unit</th>\n",
       "      <th>PowerCode</th>\n",
       "      <th>Value</th>\n",
       "    </tr>\n",
       "  </thead>\n",
       "  <tbody>\n",
       "    <tr>\n",
       "      <th>2</th>\n",
       "      <td>ENDANGERED</td>\n",
       "      <td>Number of endangered species</td>\n",
       "      <td>MAMMAL</td>\n",
       "      <td>Mammals</td>\n",
       "      <td>AUS</td>\n",
       "      <td>Australia</td>\n",
       "      <td>NBR</td>\n",
       "      <td>Number</td>\n",
       "      <td>Units</td>\n",
       "      <td>41.0</td>\n",
       "    </tr>\n",
       "    <tr>\n",
       "      <th>8</th>\n",
       "      <td>ENDANGERED</td>\n",
       "      <td>Number of endangered species</td>\n",
       "      <td>MAMMAL</td>\n",
       "      <td>Mammals</td>\n",
       "      <td>AUT</td>\n",
       "      <td>Austria</td>\n",
       "      <td>NBR</td>\n",
       "      <td>Number</td>\n",
       "      <td>Units</td>\n",
       "      <td>6.0</td>\n",
       "    </tr>\n",
       "    <tr>\n",
       "      <th>17</th>\n",
       "      <td>ENDANGERED</td>\n",
       "      <td>Number of endangered species</td>\n",
       "      <td>MAMMAL</td>\n",
       "      <td>Mammals</td>\n",
       "      <td>BEL</td>\n",
       "      <td>Belgium</td>\n",
       "      <td>NBR</td>\n",
       "      <td>Number</td>\n",
       "      <td>Units</td>\n",
       "      <td>2.0</td>\n",
       "    </tr>\n",
       "    <tr>\n",
       "      <th>26</th>\n",
       "      <td>ENDANGERED</td>\n",
       "      <td>Number of endangered species</td>\n",
       "      <td>MAMMAL</td>\n",
       "      <td>Mammals</td>\n",
       "      <td>CAN</td>\n",
       "      <td>Canada</td>\n",
       "      <td>NBR</td>\n",
       "      <td>Number</td>\n",
       "      <td>Units</td>\n",
       "      <td>11.0</td>\n",
       "    </tr>\n",
       "    <tr>\n",
       "      <th>33</th>\n",
       "      <td>ENDANGERED</td>\n",
       "      <td>Number of endangered species</td>\n",
       "      <td>MAMMAL</td>\n",
       "      <td>Mammals</td>\n",
       "      <td>CZE</td>\n",
       "      <td>Czech Republic</td>\n",
       "      <td>NBR</td>\n",
       "      <td>Number</td>\n",
       "      <td>Units</td>\n",
       "      <td>1.0</td>\n",
       "    </tr>\n",
       "  </tbody>\n",
       "</table>\n",
       "</div>"
      ],
      "text/plain": [
       "          IUCN                 IUCN Category    SPEC  Species  COU  \\\n",
       "2   ENDANGERED  Number of endangered species  MAMMAL  Mammals  AUS   \n",
       "8   ENDANGERED  Number of endangered species  MAMMAL  Mammals  AUT   \n",
       "17  ENDANGERED  Number of endangered species  MAMMAL  Mammals  BEL   \n",
       "26  ENDANGERED  Number of endangered species  MAMMAL  Mammals  CAN   \n",
       "33  ENDANGERED  Number of endangered species  MAMMAL  Mammals  CZE   \n",
       "\n",
       "           Country Unit Code    Unit PowerCode  Value  \n",
       "2        Australia       NBR  Number     Units   41.0  \n",
       "8          Austria       NBR  Number     Units    6.0  \n",
       "17         Belgium       NBR  Number     Units    2.0  \n",
       "26          Canada       NBR  Number     Units   11.0  \n",
       "33  Czech Republic       NBR  Number     Units    1.0  "
      ]
     },
     "execution_count": 148,
     "metadata": {},
     "output_type": "execute_result"
    }
   ],
   "source": [
    "#filtering through columns and rows\n",
    "wild_endan=wild_life_new[wild_life_new[\"IUCN\"]==\"ENDANGERED\"]\n",
    "#wild_totknownmammal = wild_totknown[wild_totknown['Country']==\"Australia\"]\n",
    "wild_endan.head()"
   ]
  },
  {
   "cell_type": "code",
   "execution_count": 225,
   "id": "5a3fa216",
   "metadata": {},
   "outputs": [
    {
     "name": "stdout",
     "output_type": "stream",
     "text": [
      "the mean of the total number of endangered species:  57.09567901234568\n"
     ]
    }
   ],
   "source": [
    "#the mean of the total number of endangered species around the world\n",
    "wmean1= wild_endan[\"Value\"].mean()\n",
    "print(\"the mean of the total number of endangered species: \",wmean1 )"
   ]
  },
  {
   "cell_type": "code",
   "execution_count": 150,
   "id": "f7609c31",
   "metadata": {},
   "outputs": [
    {
     "data": {
      "text/html": [
       "<div>\n",
       "<style scoped>\n",
       "    .dataframe tbody tr th:only-of-type {\n",
       "        vertical-align: middle;\n",
       "    }\n",
       "\n",
       "    .dataframe tbody tr th {\n",
       "        vertical-align: top;\n",
       "    }\n",
       "\n",
       "    .dataframe thead th {\n",
       "        text-align: right;\n",
       "    }\n",
       "</style>\n",
       "<table border=\"1\" class=\"dataframe\">\n",
       "  <thead>\n",
       "    <tr style=\"text-align: right;\">\n",
       "      <th></th>\n",
       "      <th>IUCN</th>\n",
       "      <th>IUCN Category</th>\n",
       "      <th>SPEC</th>\n",
       "      <th>Species</th>\n",
       "      <th>COU</th>\n",
       "      <th>Country</th>\n",
       "      <th>Unit Code</th>\n",
       "      <th>Unit</th>\n",
       "      <th>PowerCode</th>\n",
       "      <th>Value</th>\n",
       "    </tr>\n",
       "  </thead>\n",
       "  <tbody>\n",
       "    <tr>\n",
       "      <th>3</th>\n",
       "      <td>CRITICAL</td>\n",
       "      <td>Number of critically endangered species</td>\n",
       "      <td>MAMMAL</td>\n",
       "      <td>Mammals</td>\n",
       "      <td>AUS</td>\n",
       "      <td>Australia</td>\n",
       "      <td>NBR</td>\n",
       "      <td>Number</td>\n",
       "      <td>Units</td>\n",
       "      <td>9.0</td>\n",
       "    </tr>\n",
       "    <tr>\n",
       "      <th>9</th>\n",
       "      <td>CRITICAL</td>\n",
       "      <td>Number of critically endangered species</td>\n",
       "      <td>MAMMAL</td>\n",
       "      <td>Mammals</td>\n",
       "      <td>AUT</td>\n",
       "      <td>Austria</td>\n",
       "      <td>NBR</td>\n",
       "      <td>Number</td>\n",
       "      <td>Units</td>\n",
       "      <td>4.0</td>\n",
       "    </tr>\n",
       "    <tr>\n",
       "      <th>18</th>\n",
       "      <td>CRITICAL</td>\n",
       "      <td>Number of critically endangered species</td>\n",
       "      <td>MAMMAL</td>\n",
       "      <td>Mammals</td>\n",
       "      <td>BEL</td>\n",
       "      <td>Belgium</td>\n",
       "      <td>NBR</td>\n",
       "      <td>Number</td>\n",
       "      <td>Units</td>\n",
       "      <td>4.0</td>\n",
       "    </tr>\n",
       "    <tr>\n",
       "      <th>34</th>\n",
       "      <td>CRITICAL</td>\n",
       "      <td>Number of critically endangered species</td>\n",
       "      <td>MAMMAL</td>\n",
       "      <td>Mammals</td>\n",
       "      <td>CZE</td>\n",
       "      <td>Czech Republic</td>\n",
       "      <td>NBR</td>\n",
       "      <td>Number</td>\n",
       "      <td>Units</td>\n",
       "      <td>10.0</td>\n",
       "    </tr>\n",
       "    <tr>\n",
       "      <th>40</th>\n",
       "      <td>CRITICAL</td>\n",
       "      <td>Number of critically endangered species</td>\n",
       "      <td>MAMMAL</td>\n",
       "      <td>Mammals</td>\n",
       "      <td>DNK</td>\n",
       "      <td>Denmark</td>\n",
       "      <td>NBR</td>\n",
       "      <td>Number</td>\n",
       "      <td>Units</td>\n",
       "      <td>1.0</td>\n",
       "    </tr>\n",
       "  </tbody>\n",
       "</table>\n",
       "</div>"
      ],
      "text/plain": [
       "        IUCN                            IUCN Category    SPEC  Species  COU  \\\n",
       "3   CRITICAL  Number of critically endangered species  MAMMAL  Mammals  AUS   \n",
       "9   CRITICAL  Number of critically endangered species  MAMMAL  Mammals  AUT   \n",
       "18  CRITICAL  Number of critically endangered species  MAMMAL  Mammals  BEL   \n",
       "34  CRITICAL  Number of critically endangered species  MAMMAL  Mammals  CZE   \n",
       "40  CRITICAL  Number of critically endangered species  MAMMAL  Mammals  DNK   \n",
       "\n",
       "           Country Unit Code    Unit PowerCode  Value  \n",
       "3        Australia       NBR  Number     Units    9.0  \n",
       "9          Austria       NBR  Number     Units    4.0  \n",
       "18         Belgium       NBR  Number     Units    4.0  \n",
       "34  Czech Republic       NBR  Number     Units   10.0  \n",
       "40         Denmark       NBR  Number     Units    1.0  "
      ]
     },
     "execution_count": 150,
     "metadata": {},
     "output_type": "execute_result"
    }
   ],
   "source": [
    "#filtering through columns and rows\n",
    "wild_criendan=wild_life_new[wild_life_new[\"IUCN\"]==\"CRITICAL\"]\n",
    "wild_criendan.head()"
   ]
  },
  {
   "cell_type": "code",
   "execution_count": 223,
   "id": "ac5ec951",
   "metadata": {},
   "outputs": [
    {
     "name": "stdout",
     "output_type": "stream",
     "text": [
      "the mean of the total number of critically endangered species:  39.726072607260726\n"
     ]
    }
   ],
   "source": [
    "#the mean of the total number of critically endangered species around the world\n",
    "wmean2=wild_criendan[\"Value\"].mean()\n",
    "print(\"the mean of the total number of critically endangered species: \",wmean2 )"
   ]
  },
  {
   "cell_type": "code",
   "execution_count": 153,
   "id": "a2b12b78",
   "metadata": {},
   "outputs": [
    {
     "data": {
      "text/html": [
       "<div>\n",
       "<style scoped>\n",
       "    .dataframe tbody tr th:only-of-type {\n",
       "        vertical-align: middle;\n",
       "    }\n",
       "\n",
       "    .dataframe tbody tr th {\n",
       "        vertical-align: top;\n",
       "    }\n",
       "\n",
       "    .dataframe thead th {\n",
       "        text-align: right;\n",
       "    }\n",
       "</style>\n",
       "<table border=\"1\" class=\"dataframe\">\n",
       "  <thead>\n",
       "    <tr style=\"text-align: right;\">\n",
       "      <th></th>\n",
       "      <th>IUCN</th>\n",
       "      <th>IUCN Category</th>\n",
       "      <th>SPEC</th>\n",
       "      <th>Species</th>\n",
       "      <th>COU</th>\n",
       "      <th>Country</th>\n",
       "      <th>Unit Code</th>\n",
       "      <th>Unit</th>\n",
       "      <th>PowerCode</th>\n",
       "      <th>Value</th>\n",
       "    </tr>\n",
       "  </thead>\n",
       "  <tbody>\n",
       "    <tr>\n",
       "      <th>4</th>\n",
       "      <td>VULNERABLE</td>\n",
       "      <td>Number of vulnerable species</td>\n",
       "      <td>MAMMAL</td>\n",
       "      <td>Mammals</td>\n",
       "      <td>AUS</td>\n",
       "      <td>Australia</td>\n",
       "      <td>NBR</td>\n",
       "      <td>Number</td>\n",
       "      <td>Units</td>\n",
       "      <td>57.0</td>\n",
       "    </tr>\n",
       "    <tr>\n",
       "      <th>10</th>\n",
       "      <td>VULNERABLE</td>\n",
       "      <td>Number of vulnerable species</td>\n",
       "      <td>MAMMAL</td>\n",
       "      <td>Mammals</td>\n",
       "      <td>AUT</td>\n",
       "      <td>Austria</td>\n",
       "      <td>NBR</td>\n",
       "      <td>Number</td>\n",
       "      <td>Units</td>\n",
       "      <td>17.0</td>\n",
       "    </tr>\n",
       "    <tr>\n",
       "      <th>19</th>\n",
       "      <td>VULNERABLE</td>\n",
       "      <td>Number of vulnerable species</td>\n",
       "      <td>MAMMAL</td>\n",
       "      <td>Mammals</td>\n",
       "      <td>BEL</td>\n",
       "      <td>Belgium</td>\n",
       "      <td>NBR</td>\n",
       "      <td>Number</td>\n",
       "      <td>Units</td>\n",
       "      <td>12.0</td>\n",
       "    </tr>\n",
       "    <tr>\n",
       "      <th>27</th>\n",
       "      <td>VULNERABLE</td>\n",
       "      <td>Number of vulnerable species</td>\n",
       "      <td>MAMMAL</td>\n",
       "      <td>Mammals</td>\n",
       "      <td>CAN</td>\n",
       "      <td>Canada</td>\n",
       "      <td>NBR</td>\n",
       "      <td>Number</td>\n",
       "      <td>Units</td>\n",
       "      <td>33.0</td>\n",
       "    </tr>\n",
       "    <tr>\n",
       "      <th>35</th>\n",
       "      <td>VULNERABLE</td>\n",
       "      <td>Number of vulnerable species</td>\n",
       "      <td>MAMMAL</td>\n",
       "      <td>Mammals</td>\n",
       "      <td>CZE</td>\n",
       "      <td>Czech Republic</td>\n",
       "      <td>NBR</td>\n",
       "      <td>Number</td>\n",
       "      <td>Units</td>\n",
       "      <td>4.0</td>\n",
       "    </tr>\n",
       "  </tbody>\n",
       "</table>\n",
       "</div>"
      ],
      "text/plain": [
       "          IUCN                 IUCN Category    SPEC  Species  COU  \\\n",
       "4   VULNERABLE  Number of vulnerable species  MAMMAL  Mammals  AUS   \n",
       "10  VULNERABLE  Number of vulnerable species  MAMMAL  Mammals  AUT   \n",
       "19  VULNERABLE  Number of vulnerable species  MAMMAL  Mammals  BEL   \n",
       "27  VULNERABLE  Number of vulnerable species  MAMMAL  Mammals  CAN   \n",
       "35  VULNERABLE  Number of vulnerable species  MAMMAL  Mammals  CZE   \n",
       "\n",
       "           Country Unit Code    Unit PowerCode  Value  \n",
       "4        Australia       NBR  Number     Units   57.0  \n",
       "10         Austria       NBR  Number     Units   17.0  \n",
       "19         Belgium       NBR  Number     Units   12.0  \n",
       "27          Canada       NBR  Number     Units   33.0  \n",
       "35  Czech Republic       NBR  Number     Units    4.0  "
      ]
     },
     "execution_count": 153,
     "metadata": {},
     "output_type": "execute_result"
    }
   ],
   "source": [
    "#filtering through columns and rows\n",
    "wild_vuln=wild_life_new[wild_life_new[\"IUCN\"]==\"VULNERABLE\"]\n",
    "wild_vuln.head()"
   ]
  },
  {
   "cell_type": "code",
   "execution_count": 219,
   "id": "411ef1cc",
   "metadata": {},
   "outputs": [
    {
     "name": "stdout",
     "output_type": "stream",
     "text": [
      "the mean of the total number of vulnerable species:  85.00911854103343\n"
     ]
    }
   ],
   "source": [
    "#the mean of the total number of vulnerable species around the world\n",
    "wmean3=wild_vuln[\"Value\"].mean()\n",
    "print(\"the mean of the total number of vulnerable species: \",wmean3 )"
   ]
  },
  {
   "cell_type": "code",
   "execution_count": 155,
   "id": "43c45eb5",
   "metadata": {},
   "outputs": [
    {
     "data": {
      "text/html": [
       "<div>\n",
       "<style scoped>\n",
       "    .dataframe tbody tr th:only-of-type {\n",
       "        vertical-align: middle;\n",
       "    }\n",
       "\n",
       "    .dataframe tbody tr th {\n",
       "        vertical-align: top;\n",
       "    }\n",
       "\n",
       "    .dataframe thead th {\n",
       "        text-align: right;\n",
       "    }\n",
       "</style>\n",
       "<table border=\"1\" class=\"dataframe\">\n",
       "  <thead>\n",
       "    <tr style=\"text-align: right;\">\n",
       "      <th></th>\n",
       "      <th>IUCN</th>\n",
       "      <th>IUCN Category</th>\n",
       "      <th>SPEC</th>\n",
       "      <th>Species</th>\n",
       "      <th>COU</th>\n",
       "      <th>Country</th>\n",
       "      <th>Unit Code</th>\n",
       "      <th>Unit</th>\n",
       "      <th>PowerCode</th>\n",
       "      <th>Value</th>\n",
       "    </tr>\n",
       "  </thead>\n",
       "  <tbody>\n",
       "    <tr>\n",
       "      <th>5</th>\n",
       "      <td>THREATENED</td>\n",
       "      <td>Total number of threatened species</td>\n",
       "      <td>MAMMAL</td>\n",
       "      <td>Mammals</td>\n",
       "      <td>AUS</td>\n",
       "      <td>Australia</td>\n",
       "      <td>NBR</td>\n",
       "      <td>Number</td>\n",
       "      <td>Units</td>\n",
       "      <td>107.0</td>\n",
       "    </tr>\n",
       "    <tr>\n",
       "      <th>11</th>\n",
       "      <td>THREATENED</td>\n",
       "      <td>Total number of threatened species</td>\n",
       "      <td>MAMMAL</td>\n",
       "      <td>Mammals</td>\n",
       "      <td>AUT</td>\n",
       "      <td>Austria</td>\n",
       "      <td>NBR</td>\n",
       "      <td>Number</td>\n",
       "      <td>Units</td>\n",
       "      <td>27.0</td>\n",
       "    </tr>\n",
       "    <tr>\n",
       "      <th>20</th>\n",
       "      <td>THREATENED</td>\n",
       "      <td>Total number of threatened species</td>\n",
       "      <td>MAMMAL</td>\n",
       "      <td>Mammals</td>\n",
       "      <td>BEL</td>\n",
       "      <td>Belgium</td>\n",
       "      <td>NBR</td>\n",
       "      <td>Number</td>\n",
       "      <td>Units</td>\n",
       "      <td>18.0</td>\n",
       "    </tr>\n",
       "    <tr>\n",
       "      <th>28</th>\n",
       "      <td>THREATENED</td>\n",
       "      <td>Total number of threatened species</td>\n",
       "      <td>MAMMAL</td>\n",
       "      <td>Mammals</td>\n",
       "      <td>CAN</td>\n",
       "      <td>Canada</td>\n",
       "      <td>NBR</td>\n",
       "      <td>Number</td>\n",
       "      <td>Units</td>\n",
       "      <td>55.0</td>\n",
       "    </tr>\n",
       "    <tr>\n",
       "      <th>36</th>\n",
       "      <td>THREATENED</td>\n",
       "      <td>Total number of threatened species</td>\n",
       "      <td>MAMMAL</td>\n",
       "      <td>Mammals</td>\n",
       "      <td>CZE</td>\n",
       "      <td>Czech Republic</td>\n",
       "      <td>NBR</td>\n",
       "      <td>Number</td>\n",
       "      <td>Units</td>\n",
       "      <td>15.0</td>\n",
       "    </tr>\n",
       "  </tbody>\n",
       "</table>\n",
       "</div>"
      ],
      "text/plain": [
       "          IUCN                       IUCN Category    SPEC  Species  COU  \\\n",
       "5   THREATENED  Total number of threatened species  MAMMAL  Mammals  AUS   \n",
       "11  THREATENED  Total number of threatened species  MAMMAL  Mammals  AUT   \n",
       "20  THREATENED  Total number of threatened species  MAMMAL  Mammals  BEL   \n",
       "28  THREATENED  Total number of threatened species  MAMMAL  Mammals  CAN   \n",
       "36  THREATENED  Total number of threatened species  MAMMAL  Mammals  CZE   \n",
       "\n",
       "           Country Unit Code    Unit PowerCode  Value  \n",
       "5        Australia       NBR  Number     Units  107.0  \n",
       "11         Austria       NBR  Number     Units   27.0  \n",
       "20         Belgium       NBR  Number     Units   18.0  \n",
       "28          Canada       NBR  Number     Units   55.0  \n",
       "36  Czech Republic       NBR  Number     Units   15.0  "
      ]
     },
     "execution_count": 155,
     "metadata": {},
     "output_type": "execute_result"
    }
   ],
   "source": [
    "#filtering through columns and rows\n",
    "wild_thn=wild_life_new[wild_life_new[\"IUCN\"]==\"THREATENED\"]\n",
    "wild_thn.head()"
   ]
  },
  {
   "cell_type": "code",
   "execution_count": 217,
   "id": "7b84b82a",
   "metadata": {},
   "outputs": [
    {
     "name": "stdout",
     "output_type": "stream",
     "text": [
      "the mean of the total number of threatened species:  170.16239316239316\n"
     ]
    }
   ],
   "source": [
    "#the mean of the total number of threatened species around the world\n",
    "wmean4= wild_thn[\"Value\"].mean()\n",
    "print(\"the mean of the total number of threatened species: \", wmean4)"
   ]
  },
  {
   "cell_type": "markdown",
   "id": "9bb43b64",
   "metadata": {},
   "source": [
    "So, we can see that, the mean of total species is 2881.679666, endangered species 57.095679, critically endangered 39.726073, vulnerable 85.009119 and threatened species is 170.162393.\n",
    "So the mean of vulnerable species throughout the world is higher than the endangered or critically endangered species. "
   ]
  },
  {
   "cell_type": "code",
   "execution_count": 231,
   "id": "6d3b9475",
   "metadata": {},
   "outputs": [
    {
     "data": {
      "image/png": "[encoded data removed]",
      "text/plain": [
       "<Figure size 640x480 with 1 Axes>"
      ]
     },
     "metadata": {},
     "output_type": "display_data"
    }
   ],
   "source": [
    "df = pd.DataFrame({'mean of species':['endangered','critically endangered', 'vulnerable'], 'val':[wmean1,wmean2,wmean3]})\n",
    "ax = df.plot.bar(x='mean of species', y='val', rot=0)"
   ]
  },
  {
   "cell_type": "markdown",
   "id": "eb9d8815",
   "metadata": {},
   "source": [
    "There is a bar charts deficting that among the species that are marked as \"threatenend\", most of them fall into the \"vulnerable\" category"
   ]
  },
  {
   "cell_type": "code",
   "execution_count": 253,
   "id": "359a61bf",
   "metadata": {},
   "outputs": [
    {
     "data": {
      "text/html": [
       "<div>\n",
       "<style scoped>\n",
       "    .dataframe tbody tr th:only-of-type {\n",
       "        vertical-align: middle;\n",
       "    }\n",
       "\n",
       "    .dataframe tbody tr th {\n",
       "        vertical-align: top;\n",
       "    }\n",
       "\n",
       "    .dataframe thead th {\n",
       "        text-align: right;\n",
       "    }\n",
       "</style>\n",
       "<table border=\"1\" class=\"dataframe\">\n",
       "  <thead>\n",
       "    <tr style=\"text-align: right;\">\n",
       "      <th></th>\n",
       "      <th>IUCN</th>\n",
       "      <th>IUCN Category</th>\n",
       "      <th>SPEC</th>\n",
       "      <th>Species</th>\n",
       "      <th>COU</th>\n",
       "      <th>Country</th>\n",
       "      <th>Unit Code</th>\n",
       "      <th>Unit</th>\n",
       "      <th>PowerCode</th>\n",
       "      <th>Value</th>\n",
       "    </tr>\n",
       "  </thead>\n",
       "  <tbody>\n",
       "    <tr>\n",
       "      <th>0</th>\n",
       "      <td>TOT_KNOWN</td>\n",
       "      <td>Total number of known species</td>\n",
       "      <td>MAMMAL</td>\n",
       "      <td>Mammals</td>\n",
       "      <td>AUS</td>\n",
       "      <td>Australia</td>\n",
       "      <td>NBR</td>\n",
       "      <td>Number</td>\n",
       "      <td>Units</td>\n",
       "      <td>377.0</td>\n",
       "    </tr>\n",
       "    <tr>\n",
       "      <th>6</th>\n",
       "      <td>TOT_KNOWN</td>\n",
       "      <td>Total number of known species</td>\n",
       "      <td>MAMMAL</td>\n",
       "      <td>Mammals</td>\n",
       "      <td>AUT</td>\n",
       "      <td>Austria</td>\n",
       "      <td>NBR</td>\n",
       "      <td>Number</td>\n",
       "      <td>Units</td>\n",
       "      <td>104.0</td>\n",
       "    </tr>\n",
       "    <tr>\n",
       "      <th>15</th>\n",
       "      <td>TOT_KNOWN</td>\n",
       "      <td>Total number of known species</td>\n",
       "      <td>MAMMAL</td>\n",
       "      <td>Mammals</td>\n",
       "      <td>BEL</td>\n",
       "      <td>Belgium</td>\n",
       "      <td>NBR</td>\n",
       "      <td>Number</td>\n",
       "      <td>Units</td>\n",
       "      <td>84.0</td>\n",
       "    </tr>\n",
       "    <tr>\n",
       "      <th>24</th>\n",
       "      <td>TOT_KNOWN</td>\n",
       "      <td>Total number of known species</td>\n",
       "      <td>MAMMAL</td>\n",
       "      <td>Mammals</td>\n",
       "      <td>CAN</td>\n",
       "      <td>Canada</td>\n",
       "      <td>NBR</td>\n",
       "      <td>Number</td>\n",
       "      <td>Units</td>\n",
       "      <td>222.0</td>\n",
       "    </tr>\n",
       "    <tr>\n",
       "      <th>31</th>\n",
       "      <td>TOT_KNOWN</td>\n",
       "      <td>Total number of known species</td>\n",
       "      <td>MAMMAL</td>\n",
       "      <td>Mammals</td>\n",
       "      <td>CZE</td>\n",
       "      <td>Czech Republic</td>\n",
       "      <td>NBR</td>\n",
       "      <td>Number</td>\n",
       "      <td>Units</td>\n",
       "      <td>92.0</td>\n",
       "    </tr>\n",
       "  </tbody>\n",
       "</table>\n",
       "</div>"
      ],
      "text/plain": [
       "         IUCN                  IUCN Category    SPEC  Species  COU  \\\n",
       "0   TOT_KNOWN  Total number of known species  MAMMAL  Mammals  AUS   \n",
       "6   TOT_KNOWN  Total number of known species  MAMMAL  Mammals  AUT   \n",
       "15  TOT_KNOWN  Total number of known species  MAMMAL  Mammals  BEL   \n",
       "24  TOT_KNOWN  Total number of known species  MAMMAL  Mammals  CAN   \n",
       "31  TOT_KNOWN  Total number of known species  MAMMAL  Mammals  CZE   \n",
       "\n",
       "           Country Unit Code    Unit PowerCode  Value  \n",
       "0        Australia       NBR  Number     Units  377.0  \n",
       "6          Austria       NBR  Number     Units  104.0  \n",
       "15         Belgium       NBR  Number     Units   84.0  \n",
       "24          Canada       NBR  Number     Units  222.0  \n",
       "31  Czech Republic       NBR  Number     Units   92.0  "
      ]
     },
     "execution_count": 253,
     "metadata": {},
     "output_type": "execute_result"
    }
   ],
   "source": [
    "#filtering through columns and rows\n",
    "wild_lifetp=wild_life_new[wild_life_new[\"IUCN\"]==\"TOT_KNOWN\"]\n",
    "array =['Mammals', 'Birds', 'Reptiles' ,'Amphibians' ,'Vascular plants' ,'Fish','Marine Fish', 'Freshwater Fish', 'Mosses', 'Lichens', 'Invertebrates']\n",
    "wild_life_tknown=wild_lifetp.loc[wild_lifetp['Species'].isin(array)]\n",
    "wild_life_tknown.head()"
   ]
  },
  {
   "cell_type": "code",
   "execution_count": 259,
   "id": "42f02226",
   "metadata": {},
   "outputs": [],
   "source": [
    "#getting the means of total known species based on specific species\n",
    "tknown_mammals=wild_life_tknown.loc[wild_life_tknown['Species'] == 'Mammals', 'Value'].mean()\n",
    "tknown_birds=wild_life_tknown.loc[wild_life_tknown['Species'] == 'Birds', 'Value'].mean()\n",
    "tknown_reptiles=wild_life_tknown.loc[wild_life_tknown['Species'] == 'Reptiles', 'Value'].mean()\n",
    "tknown_amphi=wild_life_tknown.loc[wild_life_tknown['Species'] == 'Amphibians', 'Value'].mean()\n",
    "#tknown_interv=wild_life_tknown.loc[wild_life_tknown['Species'] == 'Invertebrates', 'Value'].mean()"
   ]
  },
  {
   "cell_type": "code",
   "execution_count": 260,
   "id": "cd116602",
   "metadata": {},
   "outputs": [],
   "source": [
    "wild_life_totalth=wild_life_new[wild_life_new[\"IUCN\"]==\"THREATENED\"]"
   ]
  },
  {
   "cell_type": "code",
   "execution_count": 261,
   "id": "6271f6c1",
   "metadata": {},
   "outputs": [],
   "source": [
    "#getting the means of total threathen species based on specific species\n",
    "tthn_mammals=wild_life_totalth.loc[wild_life_totalth['Species'] == 'Mammals', 'Value'].mean()\n",
    "tthn_birds=wild_life_totalth.loc[wild_life_totalth['Species'] == 'Birds', 'Value'].mean()\n",
    "tthn_reptiles=wild_life_totalth.loc[wild_life_totalth['Species'] == 'Reptiles', 'Value'].mean()\n",
    "tthn_amphi=wild_life_totalth.loc[wild_life_totalth['Species'] == 'Amphibians', 'Value'].mean()\n",
    "#tthn_interv=wild_life_totalth.loc[wild_life_totalth['Species'] == 'Invertebrates', 'Value'].mean()"
   ]
  },
  {
   "cell_type": "code",
   "execution_count": 267,
   "id": "007ed2f1",
   "metadata": {},
   "outputs": [
    {
     "data": {
      "image/png": "[encoded data removed]",
      "text/plain": [
       "<Figure size 640x480 with 1 Axes>"
      ]
     },
     "metadata": {},
     "output_type": "display_data"
    }
   ],
   "source": [
    "known = [tknown_mammals,tknown_birds, tknown_reptiles, tknown_amphi]\n",
    "threatened = [tthn_mammals, tthn_birds, tthn_reptiles, tthn_amphi]\n",
    "index = ['Mammals', 'Birds', 'Reptiles',\n",
    "         'Amphibians']\n",
    "df = pd.DataFrame({'Mean of total known species': known,\n",
    "                   'Mean of total threatened': threatened}, index=index)\n",
    "ax = df.plot.bar(rot=0, color={\"Mean of total known species\": \"green\", \"Mean of total threatened\": \"red\"})"
   ]
  },
  {
   "cell_type": "markdown",
   "id": "1cd554a1",
   "metadata": {},
   "source": [
    "So, comparing the total known species, birds have less percentage of threatened species. "
   ]
  },
  {
   "cell_type": "markdown",
   "id": "19882f9b",
   "metadata": {},
   "source": [
    "LEVEL 2\n",
    "T-TEST"
   ]
  },
  {
   "cell_type": "markdown",
   "id": "e42059d9",
   "metadata": {},
   "source": [
    "The mean of redlist animal is equal to the threathened species?\n",
    "or\n",
    "the red list index of 2002 is equal 2020? \n",
    "\n",
    "QUESTION: Is there any significant difference between the trend of redlist index of species from 2001 to 2020?"
   ]
  },
  {
   "cell_type": "code",
   "execution_count": 285,
   "id": "69a092f2",
   "metadata": {},
   "outputs": [
    {
     "data": {
      "text/plain": [
       "Ttest_indResult(statistic=4.845722343257664, pvalue=1.3980938313135415e-06)"
      ]
     },
     "execution_count": 285,
     "metadata": {},
     "output_type": "execute_result"
    }
   ],
   "source": [
    "redlist1 = red_list_new[red_list_new['Year']==2001]['Value']\n",
    "redlist2= red_list_new[red_list_new['Year']==2020]['Value']\n",
    "stats.ttest_ind(redlist1, redlist2)"
   ]
  },
  {
   "cell_type": "markdown",
   "id": "eb2e8f01",
   "metadata": {},
   "source": [
    "choosing two-tail test:\n",
    "Null hypothesis: redlist index of 2001 == redlist index of 2020\n",
    "Alt hypothesis: redlist index of 2001 != redlist index of 2020\n",
    "\n",
    "according to the t-test, t-value = 4.846\n",
    "                         p-value = 1.398\n",
    "\n",
    "the distribution:\n",
    "confidence level 95% or alpha value 0.05\n",
    "it is a two-tailed test, so alpha/2 = 0.05/2=0.025\n",
    "\n",
    "the p-value 1.39 > alpha/2=0.025\n",
    "therefore, the null hypothesis is accepted. So, it can be said that there is no significant difference between the trend of redlist index in the year of 2001 and 2020. "
   ]
  },
  {
   "cell_type": "markdown",
   "id": "c4c6d64a",
   "metadata": {},
   "source": [
    "QUESTION 2: is there any simmilaries between the trend of forestland and redlist index?"
   ]
  },
  {
   "cell_type": "code",
   "execution_count": 400,
   "id": "247a09e2",
   "metadata": {},
   "outputs": [
    {
     "data": {
      "text/plain": [
       "Ttest_indResult(statistic=-309.50402598977865, pvalue=2.9961901321963116e-66)"
      ]
     },
     "execution_count": 400,
     "metadata": {},
     "output_type": "execute_result"
    }
   ],
   "source": [
    "stats.ttest_ind(meanarray, meanfarray)"
   ]
  },
  {
   "cell_type": "markdown",
   "id": "400cb6e8",
   "metadata": {},
   "source": [
    "choosing two-tail test: Null hypothesis: mean of forest land trend == mean of redlist index; Alt hypothesis: mean of forest land trend != mean of redlist index\n",
    "\n",
    "according to the t-test, t-value = -309.504 p-value = 2.996\n",
    "\n",
    "the distribution: confidence level 95% or alpha value 0.05 it is a two-tailed test, so alpha/2 = 0.05/2=0.025\n",
    "\n",
    "the p-value 2.996 > alpha/2=0.025 therefore, the null hypothesis is accepted. So, there are simmilarities between the mean of forest land trend and mean of redlist index"
   ]
  },
  {
   "cell_type": "code",
   "execution_count": null,
   "id": "ae8b0d3e",
   "metadata": {},
   "outputs": [],
   "source": []
  }
 ],
 "metadata": {
  "kernelspec": {
   "display_name": "Python 3 (ipykernel)",
   "language": "python",
   "name": "python3"
  },
  "language_info": {
   "codemirror_mode": {
    "name": "ipython",
    "version": 3
   },
   "file_extension": ".py",
   "mimetype": "text/x-python",
   "name": "python",
   "nbconvert_exporter": "python",
   "pygments_lexer": "ipython3",
   "version": "3.7.9"
  }
 },
 "nbformat": 4,
 "nbformat_minor": 5
}
